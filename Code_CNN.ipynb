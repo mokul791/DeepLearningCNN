{
  "nbformat": 4,
  "nbformat_minor": 0,
  "metadata": {
    "colab": {
      "name": "assignment3_part2.ipynb",
      "provenance": [],
      "collapsed_sections": []
    },
    "kernelspec": {
      "name": "python3",
      "display_name": "Python 3"
    },
    "accelerator": "GPU"
  },
  "cells": [
    {
      "cell_type": "code",
      "metadata": {
        "id": "yKtBLpZG8mt8",
        "colab_type": "code",
        "outputId": "fe91729e-c64e-4314-e8ec-ef935f6f6370",
        "colab": {
          "base_uri": "https://localhost:8080/",
          "height": 71
        }
      },
      "source": [
        "import numpy as np\n",
        "import pandas as pd\n",
        "import random\n",
        "import seaborn as sns\n",
        "sns.set(style=\"ticks\", color_codes=True)\n",
        "from sklearn.model_selection import train_test_split\n",
        "from sklearn.metrics import accuracy_score\n",
        "import matplotlib.pyplot as plt\n",
        "import timeit\n",
        "from tensorflow.keras.callbacks import EarlyStopping"
      ],
      "execution_count": 0,
      "outputs": [
        {
          "output_type": "stream",
          "text": [
            "/usr/local/lib/python3.6/dist-packages/statsmodels/tools/_testing.py:19: FutureWarning: pandas.util.testing is deprecated. Use the functions in the public API at pandas.testing instead.\n",
            "  import pandas.util.testing as tm\n"
          ],
          "name": "stderr"
        }
      ]
    },
    {
      "cell_type": "code",
      "metadata": {
        "id": "BnUz4bktMesG",
        "colab_type": "code",
        "outputId": "aa7272c0-53ef-4d9c-a082-1464ce139192",
        "colab": {
          "base_uri": "https://localhost:8080/",
          "height": 122
        }
      },
      "source": [
        "from google.colab import drive\n",
        "drive.mount('/content/drive')"
      ],
      "execution_count": 0,
      "outputs": [
        {
          "output_type": "stream",
          "text": [
            "Go to this URL in a browser: https://accounts.google.com/o/oauth2/auth?client_id=947318989803-6bn6qk8qdgf4n4g3pfee6491hc0brc4i.apps.googleusercontent.com&redirect_uri=urn%3aietf%3awg%3aoauth%3a2.0%3aoob&response_type=code&scope=email%20https%3a%2f%2fwww.googleapis.com%2fauth%2fdocs.test%20https%3a%2f%2fwww.googleapis.com%2fauth%2fdrive%20https%3a%2f%2fwww.googleapis.com%2fauth%2fdrive.photos.readonly%20https%3a%2f%2fwww.googleapis.com%2fauth%2fpeopleapi.readonly\n",
            "\n",
            "Enter your authorization code:\n",
            "··········\n",
            "Mounted at /content/drive\n"
          ],
          "name": "stdout"
        }
      ]
    },
    {
      "cell_type": "code",
      "metadata": {
        "id": "ab477AZc9JwP",
        "colab_type": "code",
        "colab": {}
      },
      "source": [
        "#Loading Data set\n",
        "X_train_csv = pd.read_csv(\"/content/drive/My Drive/ECE657a_a3_2/train.csv\")\n",
        "X_test_csv = pd.read_csv(\"/content/drive/My Drive/ECE657a_a3_2/testX.csv\")"
      ],
      "execution_count": 0,
      "outputs": []
    },
    {
      "cell_type": "code",
      "metadata": {
        "id": "pviM-Fb19L9M",
        "colab_type": "code",
        "colab": {}
      },
      "source": [
        "#traing portion\n",
        "X_train_d=pd.DataFrame(X_train_csv)\n",
        "X_train_t=X_train_d.drop(['Id','Label'],axis=1)\n",
        "y_train_t=X_train_d['Label']"
      ],
      "execution_count": 0,
      "outputs": []
    },
    {
      "cell_type": "code",
      "metadata": {
        "id": "VQE0Hq_u9Mlu",
        "colab_type": "code",
        "colab": {}
      },
      "source": [
        "#test portion\n",
        "X_test_d=pd.DataFrame(X_test_csv)\n",
        "X_test=X_test_d.drop(['Id'],axis=1)"
      ],
      "execution_count": 0,
      "outputs": []
    },
    {
      "cell_type": "code",
      "metadata": {
        "colab_type": "code",
        "id": "b1fJVB9LV9Z7",
        "colab": {}
      },
      "source": [
        "#np_array conversion\n",
        "X_train_np=np.array(X_train_t,dtype='float32')\n",
        "X_test_np=np.array(X_test,dtype='float32')\n",
        "y_train_np=np.array(y_train_t,dtype='int32')"
      ],
      "execution_count": 0,
      "outputs": []
    },
    {
      "cell_type": "code",
      "metadata": {
        "id": "ju-DZ7VfVhN4",
        "colab_type": "code",
        "colab": {}
      },
      "source": [
        "#Scaling\n",
        "X_train_sd=X_train_np/255\n",
        "X_test_sd=X_test_np/255"
      ],
      "execution_count": 0,
      "outputs": []
    },
    {
      "cell_type": "code",
      "metadata": {
        "id": "sRKrYdyeefyK",
        "colab_type": "code",
        "outputId": "13a40060-2892-4d7c-c1d6-273d1cf079d1",
        "colab": {
          "base_uri": "https://localhost:8080/",
          "height": 144
        }
      },
      "source": [
        "#plotting some of the images of unique items\n",
        "u, indices = np.unique(y_train_np, return_index=True)\n",
        "plt.figure(figsize=(10,10))\n",
        "for i in range(5):\n",
        "    plt.subplot(1,5,i+1)\n",
        "    plt.xticks([])\n",
        "    plt.yticks([])\n",
        "    plt.grid(False)\n",
        "    plt.imshow(X_train_sd[indices[i], :].reshape((28, 28)),cmap=\"gray\")\n",
        "    plt.xlabel(u[i])\n",
        "plt.show()"
      ],
      "execution_count": 0,
      "outputs": [
        {
          "output_type": "display_data",
          "data": {
            "image/png": "[encoded data removed]",
            "text/plain": [
              "<Figure size 720x720 with 5 Axes>"
            ]
          },
          "metadata": {
            "tags": []
          }
        }
      ]
    },
    {
      "cell_type": "code",
      "metadata": {
        "id": "SO42VB0WMQC9",
        "colab_type": "code",
        "colab": {}
      },
      "source": [
        "#Train test split (with scaled data)\n",
        "X_train, X_valid, y_train, y_valid = train_test_split(X_train_sd,y_train_np,test_size=0.2,random_state=42)"
      ],
      "execution_count": 0,
      "outputs": []
    },
    {
      "cell_type": "markdown",
      "metadata": {
        "id": "s3yfu-iXlLKc",
        "colab_type": "text"
      },
      "source": [
        "CNN Model Creation"
      ]
    },
    {
      "cell_type": "code",
      "metadata": {
        "id": "w5Ou-IQva115",
        "colab_type": "code",
        "outputId": "ace14053-48d9-4f6e-e2a5-b799b55ab8eb",
        "colab": {
          "base_uri": "https://localhost:8080/",
          "height": 34
        }
      },
      "source": [
        "import tensorflow as tf\n",
        "from tensorflow.keras import datasets, layers, models\n",
        "from tensorflow import keras\n",
        "from keras.models import Sequential\n",
        "from keras.layers import Conv2D, MaxPool2D, Dense, Flatten, Dropout\n",
        "from keras.optimizers import Adam\n",
        "from keras.callbacks import  TensorBoard"
      ],
      "execution_count": 0,
      "outputs": [
        {
          "output_type": "stream",
          "text": [
            "Using TensorFlow backend.\n"
          ],
          "name": "stderr"
        }
      ]
    },
    {
      "cell_type": "code",
      "metadata": {
        "id": "0CvKDItha2Eh",
        "colab_type": "code",
        "outputId": "afcb339e-22e5-4ff7-f8e6-b304a996c2a3",
        "colab": {
          "base_uri": "https://localhost:8080/",
          "height": 68
        }
      },
      "source": [
        "im_rows = 28\n",
        "im_cols = 28\n",
        "batch_size =512\n",
        "im_shape = (im_rows, im_cols, 1)\n",
        "X_train=X_train.reshape(X_train.shape[0],*im_shape)\n",
        "X_valid=X_valid.reshape(X_valid.shape[0],*im_shape)\n",
        "X_test_f=X_test_sd.reshape(X_test_sd.shape[0],*im_shape)\n",
        "print('x_train shape: {}'.format(X_train.shape))\n",
        "print('x_test shape: {}'.format(X_test_f.shape))\n",
        "print('x_validate shape: {}'.format(X_valid.shape))"
      ],
      "execution_count": 0,
      "outputs": [
        {
          "output_type": "stream",
          "text": [
            "x_train shape: (48000, 28, 28, 1)\n",
            "x_test shape: (10000, 28, 28, 1)\n",
            "x_validate shape: (12000, 28, 28, 1)\n"
          ],
          "name": "stdout"
        }
      ]
    },
    {
      "cell_type": "code",
      "metadata": {
        "id": "ACEbuFxba2KG",
        "colab_type": "code",
        "colab": {}
      },
      "source": [
        "#model\n",
        "cnn_model = Sequential()\n",
        "cnn_model.add(Conv2D(filters=32,kernel_size=3, activation='relu', input_shape=im_shape))\n",
        "cnn_model.add(MaxPool2D((2, 2)))\n",
        "cnn_model.add(Dropout(0.15))\n",
        "cnn_model.add(Conv2D(filters=64, kernel_size=3, activation='relu'))\n",
        "cnn_model.add(MaxPool2D((2, 2)))\n",
        "cnn_model.add(Dropout(0.15))\n",
        "cnn_model.add(Flatten())\n",
        "cnn_model.add(Dense(units=128, activation='relu'))\n",
        "cnn_model.add(Dense(5, activation='softmax'))\n",
        "monitor = EarlyStopping(monitor='val_loss', min_delta=1e-3, patience=5, verbose=1, mode='auto',\n",
        "      restore_best_weights=True)\n"
      ],
      "execution_count": 0,
      "outputs": []
    },
    {
      "cell_type": "code",
      "metadata": {
        "id": "hLugytR4a2NK",
        "colab_type": "code",
        "outputId": "571e9c64-73c3-419e-bcf0-1826387828c2",
        "colab": {
          "base_uri": "https://localhost:8080/",
          "height": 459
        }
      },
      "source": [
        "cnn_model.summary()"
      ],
      "execution_count": 0,
      "outputs": [
        {
          "output_type": "stream",
          "text": [
            "Model: \"sequential_1\"\n",
            "_________________________________________________________________\n",
            "Layer (type)                 Output Shape              Param #   \n",
            "=================================================================\n",
            "conv2d_1 (Conv2D)            (None, 26, 26, 32)        320       \n",
            "_________________________________________________________________\n",
            "max_pooling2d_1 (MaxPooling2 (None, 13, 13, 32)        0         \n",
            "_________________________________________________________________\n",
            "dropout_1 (Dropout)          (None, 13, 13, 32)        0         \n",
            "_________________________________________________________________\n",
            "conv2d_2 (Conv2D)            (None, 11, 11, 64)        18496     \n",
            "_________________________________________________________________\n",
            "max_pooling2d_2 (MaxPooling2 (None, 5, 5, 64)          0         \n",
            "_________________________________________________________________\n",
            "dropout_2 (Dropout)          (None, 5, 5, 64)          0         \n",
            "_________________________________________________________________\n",
            "flatten_1 (Flatten)          (None, 1600)              0         \n",
            "_________________________________________________________________\n",
            "dense_1 (Dense)              (None, 128)               204928    \n",
            "_________________________________________________________________\n",
            "dense_2 (Dense)              (None, 5)                 645       \n",
            "=================================================================\n",
            "Total params: 224,389\n",
            "Trainable params: 224,389\n",
            "Non-trainable params: 0\n",
            "_________________________________________________________________\n"
          ],
          "name": "stdout"
        }
      ]
    },
    {
      "cell_type": "code",
      "metadata": {
        "id": "AlQ0Kw_XAe_K",
        "colab_type": "code",
        "colab": {}
      },
      "source": [
        "cnn_model.compile(optimizer=keras.optimizers.Adam(lr = 0.001),\n",
        "                loss='sparse_categorical_crossentropy',\n",
        "                metrics=['accuracy'])"
      ],
      "execution_count": 0,
      "outputs": []
    },
    {
      "cell_type": "code",
      "metadata": {
        "id": "tyRsP2mXa2A6",
        "colab_type": "code",
        "outputId": "3d6be0a9-53ce-4f82-8fa4-c7616e4552b8",
        "colab": {
          "base_uri": "https://localhost:8080/",
          "height": 1000
        }
      },
      "source": [
        "hist=cnn_model.fit(X_train,y_train,batch_size=batch_size,\n",
        "              epochs=200,verbose=1,\n",
        "              validation_data = (X_valid,y_valid),\n",
        "              callbacks=[monitor]\n",
        ")"
      ],
      "execution_count": 0,
      "outputs": [
        {
          "output_type": "stream",
          "text": [
            "Train on 48000 samples, validate on 12000 samples\n",
            "Epoch 1/200\n",
            "48000/48000 [==============================] - 8s 169us/step - loss: 0.8991 - accuracy: 0.6117 - val_loss: 0.6407 - val_accuracy: 0.7340\n",
            "Epoch 2/200\n",
            "48000/48000 [==============================] - 2s 33us/step - loss: 0.6009 - accuracy: 0.7528 - val_loss: 0.5319 - val_accuracy: 0.7874\n",
            "Epoch 3/200\n",
            "48000/48000 [==============================] - 2s 33us/step - loss: 0.5287 - accuracy: 0.7860 - val_loss: 0.5005 - val_accuracy: 0.7955\n",
            "Epoch 4/200\n",
            "48000/48000 [==============================] - 2s 33us/step - loss: 0.4899 - accuracy: 0.8041 - val_loss: 0.4477 - val_accuracy: 0.8242\n",
            "Epoch 5/200\n",
            "48000/48000 [==============================] - 2s 33us/step - loss: 0.4639 - accuracy: 0.8142 - val_loss: 0.4205 - val_accuracy: 0.8356\n",
            "Epoch 6/200\n",
            "48000/48000 [==============================] - 2s 33us/step - loss: 0.4382 - accuracy: 0.8256 - val_loss: 0.4077 - val_accuracy: 0.8394\n",
            "Epoch 7/200\n",
            "48000/48000 [==============================] - 2s 33us/step - loss: 0.4169 - accuracy: 0.8337 - val_loss: 0.4203 - val_accuracy: 0.8303\n",
            "Epoch 8/200\n",
            "48000/48000 [==============================] - 2s 33us/step - loss: 0.4076 - accuracy: 0.8367 - val_loss: 0.3822 - val_accuracy: 0.8506\n",
            "Epoch 9/200\n",
            "48000/48000 [==============================] - 2s 35us/step - loss: 0.3901 - accuracy: 0.8447 - val_loss: 0.3758 - val_accuracy: 0.8492\n",
            "Epoch 10/200\n",
            "48000/48000 [==============================] - 2s 33us/step - loss: 0.3750 - accuracy: 0.8494 - val_loss: 0.3592 - val_accuracy: 0.8590\n",
            "Epoch 11/200\n",
            "48000/48000 [==============================] - 2s 33us/step - loss: 0.3684 - accuracy: 0.8515 - val_loss: 0.3476 - val_accuracy: 0.8636\n",
            "Epoch 12/200\n",
            "48000/48000 [==============================] - 2s 33us/step - loss: 0.3595 - accuracy: 0.8563 - val_loss: 0.3506 - val_accuracy: 0.8604\n",
            "Epoch 13/200\n",
            "48000/48000 [==============================] - 2s 34us/step - loss: 0.3454 - accuracy: 0.8616 - val_loss: 0.3332 - val_accuracy: 0.8709\n",
            "Epoch 14/200\n",
            "48000/48000 [==============================] - 2s 34us/step - loss: 0.3401 - accuracy: 0.8629 - val_loss: 0.3458 - val_accuracy: 0.8649\n",
            "Epoch 15/200\n",
            "48000/48000 [==============================] - 2s 33us/step - loss: 0.3364 - accuracy: 0.8652 - val_loss: 0.3510 - val_accuracy: 0.8642\n",
            "Epoch 16/200\n",
            "48000/48000 [==============================] - 2s 33us/step - loss: 0.3245 - accuracy: 0.8702 - val_loss: 0.3249 - val_accuracy: 0.8741\n",
            "Epoch 17/200\n",
            "48000/48000 [==============================] - 2s 33us/step - loss: 0.3231 - accuracy: 0.8682 - val_loss: 0.4267 - val_accuracy: 0.8217\n",
            "Epoch 18/200\n",
            "48000/48000 [==============================] - 2s 33us/step - loss: 0.3271 - accuracy: 0.8686 - val_loss: 0.3375 - val_accuracy: 0.8687\n",
            "Epoch 19/200\n",
            "48000/48000 [==============================] - 2s 33us/step - loss: 0.3152 - accuracy: 0.8726 - val_loss: 0.3144 - val_accuracy: 0.8790\n",
            "Epoch 20/200\n",
            "48000/48000 [==============================] - 2s 33us/step - loss: 0.3058 - accuracy: 0.8777 - val_loss: 0.3306 - val_accuracy: 0.8652\n",
            "Epoch 21/200\n",
            "48000/48000 [==============================] - 2s 33us/step - loss: 0.3062 - accuracy: 0.8767 - val_loss: 0.3063 - val_accuracy: 0.8815\n",
            "Epoch 22/200\n",
            "48000/48000 [==============================] - 2s 33us/step - loss: 0.2950 - accuracy: 0.8830 - val_loss: 0.3050 - val_accuracy: 0.8814\n",
            "Epoch 23/200\n",
            "48000/48000 [==============================] - 2s 33us/step - loss: 0.2917 - accuracy: 0.8809 - val_loss: 0.3005 - val_accuracy: 0.8832\n",
            "Epoch 24/200\n",
            "48000/48000 [==============================] - 2s 33us/step - loss: 0.2886 - accuracy: 0.8842 - val_loss: 0.2992 - val_accuracy: 0.8835\n",
            "Epoch 25/200\n",
            "48000/48000 [==============================] - 2s 33us/step - loss: 0.2837 - accuracy: 0.8859 - val_loss: 0.3092 - val_accuracy: 0.8768\n",
            "Epoch 26/200\n",
            "48000/48000 [==============================] - 2s 33us/step - loss: 0.2785 - accuracy: 0.8883 - val_loss: 0.2999 - val_accuracy: 0.8817\n",
            "Epoch 27/200\n",
            "48000/48000 [==============================] - 2s 33us/step - loss: 0.2717 - accuracy: 0.8901 - val_loss: 0.3026 - val_accuracy: 0.8817\n",
            "Epoch 28/200\n",
            "48000/48000 [==============================] - 2s 33us/step - loss: 0.2692 - accuracy: 0.8898 - val_loss: 0.2978 - val_accuracy: 0.8794\n",
            "Epoch 29/200\n",
            "48000/48000 [==============================] - 2s 33us/step - loss: 0.2701 - accuracy: 0.8909 - val_loss: 0.3051 - val_accuracy: 0.8783\n",
            "Epoch 30/200\n",
            "48000/48000 [==============================] - 2s 34us/step - loss: 0.2672 - accuracy: 0.8927 - val_loss: 0.3245 - val_accuracy: 0.8689\n",
            "Epoch 31/200\n",
            "48000/48000 [==============================] - 2s 33us/step - loss: 0.2616 - accuracy: 0.8948 - val_loss: 0.2927 - val_accuracy: 0.8839\n",
            "Epoch 32/200\n",
            "48000/48000 [==============================] - 2s 33us/step - loss: 0.2550 - accuracy: 0.8963 - val_loss: 0.2853 - val_accuracy: 0.8882\n",
            "Epoch 33/200\n",
            "48000/48000 [==============================] - 2s 33us/step - loss: 0.2502 - accuracy: 0.8996 - val_loss: 0.2867 - val_accuracy: 0.8841\n",
            "Epoch 34/200\n",
            "48000/48000 [==============================] - 2s 33us/step - loss: 0.2541 - accuracy: 0.8980 - val_loss: 0.2993 - val_accuracy: 0.8808\n",
            "Epoch 35/200\n",
            "48000/48000 [==============================] - 2s 33us/step - loss: 0.2485 - accuracy: 0.9003 - val_loss: 0.2793 - val_accuracy: 0.8913\n",
            "Epoch 36/200\n",
            "48000/48000 [==============================] - 2s 33us/step - loss: 0.2456 - accuracy: 0.9008 - val_loss: 0.2901 - val_accuracy: 0.8842\n",
            "Epoch 37/200\n",
            "48000/48000 [==============================] - 2s 33us/step - loss: 0.2449 - accuracy: 0.9019 - val_loss: 0.2802 - val_accuracy: 0.8893\n",
            "Epoch 38/200\n",
            "48000/48000 [==============================] - 2s 34us/step - loss: 0.2430 - accuracy: 0.9011 - val_loss: 0.2781 - val_accuracy: 0.8924\n",
            "Epoch 39/200\n",
            "48000/48000 [==============================] - 2s 33us/step - loss: 0.2404 - accuracy: 0.9009 - val_loss: 0.2845 - val_accuracy: 0.8866\n",
            "Epoch 40/200\n",
            "48000/48000 [==============================] - 2s 34us/step - loss: 0.2374 - accuracy: 0.9040 - val_loss: 0.2911 - val_accuracy: 0.8799\n",
            "Epoch 41/200\n",
            "48000/48000 [==============================] - 2s 33us/step - loss: 0.2345 - accuracy: 0.9051 - val_loss: 0.2786 - val_accuracy: 0.8905\n",
            "Epoch 42/200\n",
            "48000/48000 [==============================] - 2s 33us/step - loss: 0.2266 - accuracy: 0.9088 - val_loss: 0.2766 - val_accuracy: 0.8926\n",
            "Epoch 43/200\n",
            "48000/48000 [==============================] - 2s 33us/step - loss: 0.2273 - accuracy: 0.9080 - val_loss: 0.3092 - val_accuracy: 0.8808\n",
            "Epoch 44/200\n",
            "48000/48000 [==============================] - 2s 33us/step - loss: 0.2272 - accuracy: 0.9077 - val_loss: 0.2808 - val_accuracy: 0.8906\n",
            "Epoch 45/200\n",
            "48000/48000 [==============================] - 2s 33us/step - loss: 0.2156 - accuracy: 0.9127 - val_loss: 0.2794 - val_accuracy: 0.8882\n",
            "Epoch 46/200\n",
            "48000/48000 [==============================] - 2s 33us/step - loss: 0.2173 - accuracy: 0.9126 - val_loss: 0.2838 - val_accuracy: 0.8882\n",
            "Epoch 47/200\n",
            "48000/48000 [==============================] - 2s 33us/step - loss: 0.2167 - accuracy: 0.9127 - val_loss: 0.2875 - val_accuracy: 0.8889\n",
            "Restoring model weights from the end of the best epoch.\n",
            "Epoch 00047: early stopping\n"
          ],
          "name": "stdout"
        }
      ]
    },
    {
      "cell_type": "code",
      "metadata": {
        "colab_type": "code",
        "id": "oIXeYA_B6xKH",
        "outputId": "e75ada1b-e5da-43bd-f1db-d702971c6dc2",
        "colab": {
          "base_uri": "https://localhost:8080/",
          "height": 551
        }
      },
      "source": [
        "# Graph plotting\n",
        "accuracy = hist.history['accuracy']\n",
        "val_accuracy = hist.history['val_accuracy']\n",
        "loss = hist.history['loss']\n",
        "val_loss = hist.history['val_loss']\n",
        "epochs = range(len(accuracy))\n",
        "\n",
        "plt.plot(epochs, accuracy, 'g', label='Training accuracy')\n",
        "plt.plot(epochs, val_accuracy, 'b', label='Validation accuracy')\n",
        "plt.title('Training and validation accuracy')\n",
        "plt.legend()\n",
        "plt.figure()\n",
        "\n",
        "plt.plot(epochs, loss, 'g', label='Training loss')\n",
        "plt.plot(epochs, val_loss, 'b', label='Validation loss')\n",
        "plt.title('Training and validation loss')\n",
        "plt.legend()\n",
        "plt.show()"
      ],
      "execution_count": 0,
      "outputs": [
        {
          "output_type": "display_data",
          "data": {
            "image/png": "[encoded data removed]",
            "text/plain": [
              "<Figure size 432x288 with 1 Axes>"
            ]
          },
          "metadata": {
            "tags": [],
            "needs_background": "light"
          }
        },
        {
          "output_type": "display_data",
          "data": {
            "image/png": "[encoded data removed]",
            "text/plain": [
              "<Figure size 432x288 with 1 Axes>"
            ]
          },
          "metadata": {
            "tags": [],
            "needs_background": "light"
          }
        }
      ]
    },
    {
      "cell_type": "code",
      "metadata": {
        "id": "Un8ELxW7E2yR",
        "colab_type": "code",
        "outputId": "abe0f553-c575-4104-d7ca-0fa912234d38",
        "colab": {
          "base_uri": "https://localhost:8080/",
          "height": 34
        }
      },
      "source": [
        "start = timeit.default_timer()\n",
        "y_pred = cnn_model.predict_classes(X_valid)\n",
        "stop = timeit.default_timer()\n",
        "t_basic_cnn=stop - start\n",
        "print('Time: ', t_basic_cnn) "
      ],
      "execution_count": 0,
      "outputs": [
        {
          "output_type": "stream",
          "text": [
            "Time:  0.5264329769999847\n"
          ],
          "name": "stdout"
        }
      ]
    },
    {
      "cell_type": "code",
      "metadata": {
        "id": "8ok73g7HH4jy",
        "colab_type": "code",
        "outputId": "f9e8b358-a237-4180-e754-c584bd6726a7",
        "colab": {
          "base_uri": "https://localhost:8080/",
          "height": 221
        }
      },
      "source": [
        "#classificaiton report\n",
        "from sklearn.metrics import classification_report\n",
        "y_pred = cnn_model.predict_classes(X_valid)\n",
        "target_names = ['class 0', 'class 1', 'class 2','class 3','class 4']\n",
        "print(classification_report(y_valid, y_pred, target_names=target_names))"
      ],
      "execution_count": 0,
      "outputs": [
        {
          "output_type": "stream",
          "text": [
            "              precision    recall  f1-score   support\n",
            "\n",
            "     class 0       0.95      0.96      0.95      2379\n",
            "     class 1       0.88      0.89      0.88      2424\n",
            "     class 2       0.85      0.84      0.84      2364\n",
            "     class 3       0.88      0.84      0.86      2367\n",
            "     class 4       0.91      0.93      0.92      2466\n",
            "\n",
            "    accuracy                           0.89     12000\n",
            "   macro avg       0.89      0.89      0.89     12000\n",
            "weighted avg       0.89      0.89      0.89     12000\n",
            "\n"
          ],
          "name": "stdout"
        }
      ]
    },
    {
      "cell_type": "code",
      "metadata": {
        "id": "wTOkrBTDBFt-",
        "colab_type": "code",
        "outputId": "578f293c-3708-4029-f7f3-42a9875cf233",
        "colab": {
          "base_uri": "https://localhost:8080/",
          "height": 102
        }
      },
      "source": [
        "from sklearn.metrics import confusion_matrix\n",
        "confusion_matrix(y_valid, y_pred)"
      ],
      "execution_count": 0,
      "outputs": [
        {
          "output_type": "execute_result",
          "data": {
            "text/plain": [
              "array([[2283,   79,   14,    2,    1],\n",
              "       [ 106, 2162,  121,   29,    6],\n",
              "       [  15,  179, 1987,  124,   59],\n",
              "       [   0,   40,  199, 1977,  151],\n",
              "       [   6,    8,   29,  121, 2302]])"
            ]
          },
          "metadata": {
            "tags": []
          },
          "execution_count": 19
        }
      ]
    },
    {
      "cell_type": "code",
      "metadata": {
        "id": "XtNCStUEzICk",
        "colab_type": "code",
        "colab": {}
      },
      "source": [
        "y_test_f=cnn_model.predict_classes(X_test_f)\n",
        "y_test_f_df=pd.DataFrame(y_test_f, columns=['Label'])"
      ],
      "execution_count": 0,
      "outputs": []
    },
    {
      "cell_type": "code",
      "metadata": {
        "id": "lvUPeNGvUc3M",
        "colab_type": "code",
        "colab": {}
      },
      "source": [
        "frames = [X_test_d['Id'],y_test_f_df]\n",
        "output = pd.concat(frames,axis=1)"
      ],
      "execution_count": 0,
      "outputs": []
    },
    {
      "cell_type": "code",
      "metadata": {
        "id": "mUkAYY62YgSM",
        "colab_type": "code",
        "colab": {}
      },
      "source": [
        "# from google.colab import files\n",
        "# output.to_csv ('output.csv',index = False, header=True)\n",
        "# files.download('output.csv')\n",
        "# #88.57 kaggle accuracy\n"
      ],
      "execution_count": 0,
      "outputs": []
    },
    {
      "cell_type": "markdown",
      "metadata": {
        "id": "hQOK6igkygi8",
        "colab_type": "text"
      },
      "source": [
        "**Keras Tuner for improving accuracy**"
      ]
    },
    {
      "cell_type": "code",
      "metadata": {
        "id": "G1SOritMZL9o",
        "colab_type": "code",
        "outputId": "2683c738-3350-469f-898b-a08f9c6a8dd6",
        "colab": {
          "base_uri": "https://localhost:8080/",
          "height": 530
        }
      },
      "source": [
        "!pip install -U keras-tuner\n"
      ],
      "execution_count": 0,
      "outputs": [
        {
          "output_type": "stream",
          "text": [
            "Collecting keras-tuner\n",
            "\u001b[?25l  Downloading https://files.pythonhosted.org/packages/a7/f7/4b41b6832abf4c9bef71a664dc563adb25afc5812831667c6db572b1a261/keras-tuner-1.0.1.tar.gz (54kB)\n",
            "\r\u001b[K     |██████                          | 10kB 28.3MB/s eta 0:00:01\r\u001b[K     |████████████                    | 20kB 5.8MB/s eta 0:00:01\r\u001b[K     |██████████████████              | 30kB 7.1MB/s eta 0:00:01\r\u001b[K     |████████████████████████        | 40kB 8.0MB/s eta 0:00:01\r\u001b[K     |██████████████████████████████  | 51kB 6.8MB/s eta 0:00:01\r\u001b[K     |████████████████████████████████| 61kB 4.8MB/s \n",
            "\u001b[?25hRequirement already satisfied, skipping upgrade: future in /usr/local/lib/python3.6/dist-packages (from keras-tuner) (0.16.0)\n",
            "Requirement already satisfied, skipping upgrade: numpy in /usr/local/lib/python3.6/dist-packages (from keras-tuner) (1.18.2)\n",
            "Requirement already satisfied, skipping upgrade: tabulate in /usr/local/lib/python3.6/dist-packages (from keras-tuner) (0.8.7)\n",
            "Collecting terminaltables\n",
            "  Downloading https://files.pythonhosted.org/packages/9b/c4/4a21174f32f8a7e1104798c445dacdc1d4df86f2f26722767034e4de4bff/terminaltables-3.1.0.tar.gz\n",
            "Collecting colorama\n",
            "  Downloading https://files.pythonhosted.org/packages/c9/dc/45cdef1b4d119eb96316b3117e6d5708a08029992b2fee2c143c7a0a5cc5/colorama-0.4.3-py2.py3-none-any.whl\n",
            "Requirement already satisfied, skipping upgrade: tqdm in /usr/local/lib/python3.6/dist-packages (from keras-tuner) (4.38.0)\n",
            "Requirement already satisfied, skipping upgrade: requests in /usr/local/lib/python3.6/dist-packages (from keras-tuner) (2.21.0)\n",
            "Requirement already satisfied, skipping upgrade: scipy in /usr/local/lib/python3.6/dist-packages (from keras-tuner) (1.4.1)\n",
            "Requirement already satisfied, skipping upgrade: scikit-learn in /usr/local/lib/python3.6/dist-packages (from keras-tuner) (0.22.2.post1)\n",
            "Requirement already satisfied, skipping upgrade: chardet<3.1.0,>=3.0.2 in /usr/local/lib/python3.6/dist-packages (from requests->keras-tuner) (3.0.4)\n",
            "Requirement already satisfied, skipping upgrade: idna<2.9,>=2.5 in /usr/local/lib/python3.6/dist-packages (from requests->keras-tuner) (2.8)\n",
            "Requirement already satisfied, skipping upgrade: certifi>=2017.4.17 in /usr/local/lib/python3.6/dist-packages (from requests->keras-tuner) (2020.4.5.1)\n",
            "Requirement already satisfied, skipping upgrade: urllib3<1.25,>=1.21.1 in /usr/local/lib/python3.6/dist-packages (from requests->keras-tuner) (1.24.3)\n",
            "Requirement already satisfied, skipping upgrade: joblib>=0.11 in /usr/local/lib/python3.6/dist-packages (from scikit-learn->keras-tuner) (0.14.1)\n",
            "Building wheels for collected packages: keras-tuner, terminaltables\n",
            "  Building wheel for keras-tuner (setup.py) ... \u001b[?25l\u001b[?25hdone\n",
            "  Created wheel for keras-tuner: filename=keras_tuner-1.0.1-cp36-none-any.whl size=73200 sha256=71107e03d208d7af58cf178180102d4969dcffafbb6a294dc37a3356fbb1af06\n",
            "  Stored in directory: /root/.cache/pip/wheels/b9/cc/62/52716b70dd90f3db12519233c3a93a5360bc672da1a10ded43\n",
            "  Building wheel for terminaltables (setup.py) ... \u001b[?25l\u001b[?25hdone\n",
            "  Created wheel for terminaltables: filename=terminaltables-3.1.0-cp36-none-any.whl size=15356 sha256=952cf670b4fd059aea0980bbe8cbc44e4d67ba2e209b41eb1fa4e28a18f88c80\n",
            "  Stored in directory: /root/.cache/pip/wheels/30/6b/50/6c75775b681fb36cdfac7f19799888ef9d8813aff9e379663e\n",
            "Successfully built keras-tuner terminaltables\n",
            "Installing collected packages: terminaltables, colorama, keras-tuner\n",
            "Successfully installed colorama-0.4.3 keras-tuner-1.0.1 terminaltables-3.1.0\n"
          ],
          "name": "stdout"
        }
      ]
    },
    {
      "cell_type": "code",
      "metadata": {
        "id": "0O9nUPqvMQXx",
        "colab_type": "code",
        "colab": {}
      },
      "source": [
        "monitor = EarlyStopping(monitor='val_loss', min_delta=1e-3, patience=5, verbose=1, mode='auto',\n",
        "      restore_best_weights=True)"
      ],
      "execution_count": 0,
      "outputs": []
    },
    {
      "cell_type": "code",
      "metadata": {
        "id": "jjVMS-EnHaW4",
        "colab_type": "code",
        "colab": {}
      },
      "source": [
        "#Defining model for keras tuner\n",
        "from tensorflow import keras\n",
        "from tensorflow.keras import layers\n",
        "from kerastuner.tuners import RandomSearch\n",
        "from tensorflow.keras.callbacks import EarlyStopping\n",
        "def build_model(hp):\n",
        "  cnn_model = keras.Sequential()\n",
        "  cnn_model.add(keras.layers.Conv2D(filters=hp.Int('filter_1',min_value=32,max_value=64,step=16), \n",
        "                                    kernel_size=hp.Choice('kernel_1', values = [3,5]),\n",
        "                                    activation='relu', input_shape=im_shape))\n",
        "  cnn_model.add(keras.layers.MaxPool2D((2, 2)))\n",
        "  cnn_model.add(keras.layers.Dropout(0.15))\n",
        "  cnn_model.add(keras.layers.Conv2D(filters=hp.Int('filter_2', min_value=64, max_value=128, step=16),\n",
        "                                    kernel_size=hp.Choice('kernel_2', values = [3,5]),\n",
        "                                    activation='relu'))\n",
        "  cnn_model.add(keras.layers.MaxPool2D((2, 2)))\n",
        "  cnn_model.add(keras.layers.Dropout(0.15))\n",
        "  cnn_model.add(keras.layers.Flatten())\n",
        "  cnn_model.add(keras.layers.Dense(units=hp.Int('dense_unit', min_value=32, max_value=128, step=16),\n",
        "                                  activation='relu'))\n",
        "  cnn_model.add(keras.layers.Dense(5, activation='softmax'))\n",
        "  cnn_model.compile(optimizer=keras.optimizers.Adam(hp.Choice('learning_rate',\n",
        "                      values=[1e-2, 1e-3, 1e-4])),\n",
        "                  loss='sparse_categorical_crossentropy',\n",
        "                  metrics=['accuracy'])\n",
        "  return cnn_model\n",
        "  monitor = EarlyStopping(monitor='val_loss', min_delta=1e-3, patience=5, verbose=1, mode='auto',\n",
        "      restore_best_weights=True)"
      ],
      "execution_count": 0,
      "outputs": []
    },
    {
      "cell_type": "code",
      "metadata": {
        "id": "8uDvdVIdI77E",
        "colab_type": "code",
        "colab": {}
      },
      "source": [
        "k_tuner=RandomSearch(build_model,\n",
        "                objective='val_accuracy',\n",
        "                max_trials=5,directory='output')"
      ],
      "execution_count": 0,
      "outputs": []
    },
    {
      "cell_type": "code",
      "metadata": {
        "id": "KB8ECniHMOpS",
        "colab_type": "code",
        "outputId": "b0473c20-e1ca-419e-c883-580c9b243b4a",
        "colab": {
          "base_uri": "https://localhost:8080/",
          "height": 698
        }
      },
      "source": [
        "k_tuner.search_space_summary()"
      ],
      "execution_count": 0,
      "outputs": [
        {
          "output_type": "display_data",
          "data": {
            "text/html": [
              "<span style=\"color:#4527A0\"><h1 style=\"font-size:18px\">Search space summary</h1></span>"
            ],
            "text/plain": [
              "<IPython.core.display.HTML object>"
            ]
          },
          "metadata": {
            "tags": []
          }
        },
        {
          "output_type": "display_data",
          "data": {
            "text/html": [
              "<span style=\"color:cyan\"> |-Default search space size: 6</span>"
            ],
            "text/plain": [
              "<IPython.core.display.HTML object>"
            ]
          },
          "metadata": {
            "tags": []
          }
        },
        {
          "output_type": "display_data",
          "data": {
            "text/html": [
              "<span style=\"color:#7E57C2\"><h2 style=\"font-size:16px\">filter_1 (Int)</h2></span>"
            ],
            "text/plain": [
              "<IPython.core.display.HTML object>"
            ]
          },
          "metadata": {
            "tags": []
          }
        },
        {
          "output_type": "display_data",
          "data": {
            "text/html": [
              "<span style=\"color:cyan\"> |-default: None</span>"
            ],
            "text/plain": [
              "<IPython.core.display.HTML object>"
            ]
          },
          "metadata": {
            "tags": []
          }
        },
        {
          "output_type": "display_data",
          "data": {
            "text/html": [
              "<span style=\"color:blue\"> |-max_value: 64</span>"
            ],
            "text/plain": [
              "<IPython.core.display.HTML object>"
            ]
          },
          "metadata": {
            "tags": []
          }
        },
        {
          "output_type": "display_data",
          "data": {
            "text/html": [
              "<span style=\"color:cyan\"> |-min_value: 32</span>"
            ],
            "text/plain": [
              "<IPython.core.display.HTML object>"
            ]
          },
          "metadata": {
            "tags": []
          }
        },
        {
          "output_type": "display_data",
          "data": {
            "text/html": [
              "<span style=\"color:blue\"> |-sampling: None</span>"
            ],
            "text/plain": [
              "<IPython.core.display.HTML object>"
            ]
          },
          "metadata": {
            "tags": []
          }
        },
        {
          "output_type": "display_data",
          "data": {
            "text/html": [
              "<span style=\"color:cyan\"> |-step: 16</span>"
            ],
            "text/plain": [
              "<IPython.core.display.HTML object>"
            ]
          },
          "metadata": {
            "tags": []
          }
        },
        {
          "output_type": "display_data",
          "data": {
            "text/html": [
              "<span style=\"color:#7E57C2\"><h2 style=\"font-size:16px\">kernel_1 (Choice)</h2></span>"
            ],
            "text/plain": [
              "<IPython.core.display.HTML object>"
            ]
          },
          "metadata": {
            "tags": []
          }
        },
        {
          "output_type": "display_data",
          "data": {
            "text/html": [
              "<span style=\"color:cyan\"> |-default: 3</span>"
            ],
            "text/plain": [
              "<IPython.core.display.HTML object>"
            ]
          },
          "metadata": {
            "tags": []
          }
        },
        {
          "output_type": "display_data",
          "data": {
            "text/html": [
              "<span style=\"color:blue\"> |-ordered: True</span>"
            ],
            "text/plain": [
              "<IPython.core.display.HTML object>"
            ]
          },
          "metadata": {
            "tags": []
          }
        },
        {
          "output_type": "display_data",
          "data": {
            "text/html": [
              "<span style=\"color:cyan\"> |-values: [3, 5]</span>"
            ],
            "text/plain": [
              "<IPython.core.display.HTML object>"
            ]
          },
          "metadata": {
            "tags": []
          }
        },
        {
          "output_type": "display_data",
          "data": {
            "text/html": [
              "<span style=\"color:#7E57C2\"><h2 style=\"font-size:16px\">filter_2 (Int)</h2></span>"
            ],
            "text/plain": [
              "<IPython.core.display.HTML object>"
            ]
          },
          "metadata": {
            "tags": []
          }
        },
        {
          "output_type": "display_data",
          "data": {
            "text/html": [
              "<span style=\"color:cyan\"> |-default: None</span>"
            ],
            "text/plain": [
              "<IPython.core.display.HTML object>"
            ]
          },
          "metadata": {
            "tags": []
          }
        },
        {
          "output_type": "display_data",
          "data": {
            "text/html": [
              "<span style=\"color:blue\"> |-max_value: 128</span>"
            ],
            "text/plain": [
              "<IPython.core.display.HTML object>"
            ]
          },
          "metadata": {
            "tags": []
          }
        },
        {
          "output_type": "display_data",
          "data": {
            "text/html": [
              "<span style=\"color:cyan\"> |-min_value: 64</span>"
            ],
            "text/plain": [
              "<IPython.core.display.HTML object>"
            ]
          },
          "metadata": {
            "tags": []
          }
        },
        {
          "output_type": "display_data",
          "data": {
            "text/html": [
              "<span style=\"color:blue\"> |-sampling: None</span>"
            ],
            "text/plain": [
              "<IPython.core.display.HTML object>"
            ]
          },
          "metadata": {
            "tags": []
          }
        },
        {
          "output_type": "display_data",
          "data": {
            "text/html": [
              "<span style=\"color:cyan\"> |-step: 16</span>"
            ],
            "text/plain": [
              "<IPython.core.display.HTML object>"
            ]
          },
          "metadata": {
            "tags": []
          }
        },
        {
          "output_type": "display_data",
          "data": {
            "text/html": [
              "<span style=\"color:#7E57C2\"><h2 style=\"font-size:16px\">kernel_2 (Choice)</h2></span>"
            ],
            "text/plain": [
              "<IPython.core.display.HTML object>"
            ]
          },
          "metadata": {
            "tags": []
          }
        },
        {
          "output_type": "display_data",
          "data": {
            "text/html": [
              "<span style=\"color:cyan\"> |-default: 3</span>"
            ],
            "text/plain": [
              "<IPython.core.display.HTML object>"
            ]
          },
          "metadata": {
            "tags": []
          }
        },
        {
          "output_type": "display_data",
          "data": {
            "text/html": [
              "<span style=\"color:blue\"> |-ordered: True</span>"
            ],
            "text/plain": [
              "<IPython.core.display.HTML object>"
            ]
          },
          "metadata": {
            "tags": []
          }
        },
        {
          "output_type": "display_data",
          "data": {
            "text/html": [
              "<span style=\"color:cyan\"> |-values: [3, 5]</span>"
            ],
            "text/plain": [
              "<IPython.core.display.HTML object>"
            ]
          },
          "metadata": {
            "tags": []
          }
        },
        {
          "output_type": "display_data",
          "data": {
            "text/html": [
              "<span style=\"color:#7E57C2\"><h2 style=\"font-size:16px\">dense_unit (Int)</h2></span>"
            ],
            "text/plain": [
              "<IPython.core.display.HTML object>"
            ]
          },
          "metadata": {
            "tags": []
          }
        },
        {
          "output_type": "display_data",
          "data": {
            "text/html": [
              "<span style=\"color:cyan\"> |-default: None</span>"
            ],
            "text/plain": [
              "<IPython.core.display.HTML object>"
            ]
          },
          "metadata": {
            "tags": []
          }
        },
        {
          "output_type": "display_data",
          "data": {
            "text/html": [
              "<span style=\"color:blue\"> |-max_value: 128</span>"
            ],
            "text/plain": [
              "<IPython.core.display.HTML object>"
            ]
          },
          "metadata": {
            "tags": []
          }
        },
        {
          "output_type": "display_data",
          "data": {
            "text/html": [
              "<span style=\"color:cyan\"> |-min_value: 32</span>"
            ],
            "text/plain": [
              "<IPython.core.display.HTML object>"
            ]
          },
          "metadata": {
            "tags": []
          }
        },
        {
          "output_type": "display_data",
          "data": {
            "text/html": [
              "<span style=\"color:blue\"> |-sampling: None</span>"
            ],
            "text/plain": [
              "<IPython.core.display.HTML object>"
            ]
          },
          "metadata": {
            "tags": []
          }
        },
        {
          "output_type": "display_data",
          "data": {
            "text/html": [
              "<span style=\"color:cyan\"> |-step: 16</span>"
            ],
            "text/plain": [
              "<IPython.core.display.HTML object>"
            ]
          },
          "metadata": {
            "tags": []
          }
        },
        {
          "output_type": "display_data",
          "data": {
            "text/html": [
              "<span style=\"color:#7E57C2\"><h2 style=\"font-size:16px\">learning_rate (Choice)</h2></span>"
            ],
            "text/plain": [
              "<IPython.core.display.HTML object>"
            ]
          },
          "metadata": {
            "tags": []
          }
        },
        {
          "output_type": "display_data",
          "data": {
            "text/html": [
              "<span style=\"color:cyan\"> |-default: 0.01</span>"
            ],
            "text/plain": [
              "<IPython.core.display.HTML object>"
            ]
          },
          "metadata": {
            "tags": []
          }
        },
        {
          "output_type": "display_data",
          "data": {
            "text/html": [
              "<span style=\"color:blue\"> |-ordered: True</span>"
            ],
            "text/plain": [
              "<IPython.core.display.HTML object>"
            ]
          },
          "metadata": {
            "tags": []
          }
        },
        {
          "output_type": "display_data",
          "data": {
            "text/html": [
              "<span style=\"color:cyan\"> |-values: [0.01, 0.001, 0.0001]</span>"
            ],
            "text/plain": [
              "<IPython.core.display.HTML object>"
            ]
          },
          "metadata": {
            "tags": []
          }
        }
      ]
    },
    {
      "cell_type": "code",
      "metadata": {
        "id": "tIK14zWOJA_k",
        "colab_type": "code",
        "outputId": "45e6593e-3f98-47f4-a508-0c7391889aba",
        "colab": {
          "base_uri": "https://localhost:8080/",
          "height": 1000
        }
      },
      "source": [
        "k_tuner.search(X_train, y_train,epochs=50,validation_data=(X_valid, y_valid), callbacks=[monitor])"
      ],
      "execution_count": 0,
      "outputs": [
        {
          "output_type": "stream",
          "text": [
            "Epoch 1/50\n",
            "1500/1500 [==============================] - 5s 4ms/step - loss: 0.8693 - accuracy: 0.6238 - val_loss: 0.6581 - val_accuracy: 0.7261\n",
            "Epoch 2/50\n",
            "1500/1500 [==============================] - 5s 3ms/step - loss: 0.6247 - accuracy: 0.7441 - val_loss: 0.5557 - val_accuracy: 0.7797\n",
            "Epoch 3/50\n",
            "1500/1500 [==============================] - 5s 3ms/step - loss: 0.5563 - accuracy: 0.7743 - val_loss: 0.5132 - val_accuracy: 0.7986\n",
            "Epoch 4/50\n",
            "1500/1500 [==============================] - 5s 3ms/step - loss: 0.5146 - accuracy: 0.7933 - val_loss: 0.4760 - val_accuracy: 0.8083\n",
            "Epoch 5/50\n",
            "1500/1500 [==============================] - 5s 3ms/step - loss: 0.4854 - accuracy: 0.8062 - val_loss: 0.4431 - val_accuracy: 0.8280\n",
            "Epoch 6/50\n",
            "1500/1500 [==============================] - 5s 3ms/step - loss: 0.4616 - accuracy: 0.8176 - val_loss: 0.4558 - val_accuracy: 0.8143\n",
            "Epoch 7/50\n",
            "1500/1500 [==============================] - 5s 3ms/step - loss: 0.4425 - accuracy: 0.8265 - val_loss: 0.4086 - val_accuracy: 0.8400\n",
            "Epoch 8/50\n",
            "1500/1500 [==============================] - 5s 3ms/step - loss: 0.4300 - accuracy: 0.8301 - val_loss: 0.4125 - val_accuracy: 0.8378\n",
            "Epoch 9/50\n",
            "1500/1500 [==============================] - 5s 3ms/step - loss: 0.4173 - accuracy: 0.8351 - val_loss: 0.4003 - val_accuracy: 0.8428\n",
            "Epoch 10/50\n",
            "1500/1500 [==============================] - 5s 3ms/step - loss: 0.4052 - accuracy: 0.8392 - val_loss: 0.3777 - val_accuracy: 0.8516\n",
            "Epoch 11/50\n",
            "1500/1500 [==============================] - 5s 3ms/step - loss: 0.3974 - accuracy: 0.8436 - val_loss: 0.3747 - val_accuracy: 0.8540\n",
            "Epoch 12/50\n",
            "1500/1500 [==============================] - 5s 3ms/step - loss: 0.3882 - accuracy: 0.8462 - val_loss: 0.3673 - val_accuracy: 0.8562\n",
            "Epoch 13/50\n",
            "1500/1500 [==============================] - 5s 3ms/step - loss: 0.3800 - accuracy: 0.8487 - val_loss: 0.3601 - val_accuracy: 0.8617\n",
            "Epoch 14/50\n",
            "1500/1500 [==============================] - 5s 3ms/step - loss: 0.3741 - accuracy: 0.8515 - val_loss: 0.3452 - val_accuracy: 0.8654\n",
            "Epoch 15/50\n",
            "1500/1500 [==============================] - 5s 3ms/step - loss: 0.3648 - accuracy: 0.8564 - val_loss: 0.3648 - val_accuracy: 0.8553\n",
            "Epoch 16/50\n",
            "1500/1500 [==============================] - 5s 3ms/step - loss: 0.3593 - accuracy: 0.8586 - val_loss: 0.3677 - val_accuracy: 0.8512\n",
            "Epoch 17/50\n",
            "1500/1500 [==============================] - 5s 3ms/step - loss: 0.3529 - accuracy: 0.8594 - val_loss: 0.3372 - val_accuracy: 0.8681\n",
            "Epoch 18/50\n",
            "1500/1500 [==============================] - 5s 3ms/step - loss: 0.3482 - accuracy: 0.8617 - val_loss: 0.3292 - val_accuracy: 0.8677\n",
            "Epoch 19/50\n",
            "1500/1500 [==============================] - 5s 3ms/step - loss: 0.3437 - accuracy: 0.8615 - val_loss: 0.3374 - val_accuracy: 0.8668\n",
            "Epoch 20/50\n",
            "1500/1500 [==============================] - 5s 3ms/step - loss: 0.3388 - accuracy: 0.8659 - val_loss: 0.3310 - val_accuracy: 0.8724\n",
            "Epoch 21/50\n",
            "1500/1500 [==============================] - 5s 3ms/step - loss: 0.3328 - accuracy: 0.8682 - val_loss: 0.3207 - val_accuracy: 0.8737\n",
            "Epoch 22/50\n",
            "1500/1500 [==============================] - 5s 3ms/step - loss: 0.3294 - accuracy: 0.8689 - val_loss: 0.3213 - val_accuracy: 0.8725\n",
            "Epoch 23/50\n",
            "1500/1500 [==============================] - 5s 3ms/step - loss: 0.3246 - accuracy: 0.8704 - val_loss: 0.3377 - val_accuracy: 0.8668\n",
            "Epoch 24/50\n",
            "1500/1500 [==============================] - 5s 3ms/step - loss: 0.3210 - accuracy: 0.8728 - val_loss: 0.3169 - val_accuracy: 0.8752\n",
            "Epoch 25/50\n",
            "1500/1500 [==============================] - 5s 3ms/step - loss: 0.3147 - accuracy: 0.8743 - val_loss: 0.3215 - val_accuracy: 0.8714\n",
            "Epoch 26/50\n",
            "1500/1500 [==============================] - 5s 3ms/step - loss: 0.3131 - accuracy: 0.8757 - val_loss: 0.3205 - val_accuracy: 0.8723\n",
            "Epoch 27/50\n",
            "1500/1500 [==============================] - 5s 3ms/step - loss: 0.3091 - accuracy: 0.8761 - val_loss: 0.3077 - val_accuracy: 0.8781\n",
            "Epoch 28/50\n",
            "1500/1500 [==============================] - 5s 4ms/step - loss: 0.3057 - accuracy: 0.8781 - val_loss: 0.3192 - val_accuracy: 0.8708\n",
            "Epoch 29/50\n",
            "1500/1500 [==============================] - 5s 4ms/step - loss: 0.3018 - accuracy: 0.8787 - val_loss: 0.3017 - val_accuracy: 0.8806\n",
            "Epoch 30/50\n",
            "1500/1500 [==============================] - 5s 3ms/step - loss: 0.2971 - accuracy: 0.8813 - val_loss: 0.3049 - val_accuracy: 0.8787\n",
            "Epoch 31/50\n",
            "1500/1500 [==============================] - 5s 3ms/step - loss: 0.2947 - accuracy: 0.8812 - val_loss: 0.2903 - val_accuracy: 0.8879\n",
            "Epoch 32/50\n",
            "1500/1500 [==============================] - 5s 3ms/step - loss: 0.2924 - accuracy: 0.8824 - val_loss: 0.3039 - val_accuracy: 0.8810\n",
            "Epoch 33/50\n",
            "1500/1500 [==============================] - 5s 3ms/step - loss: 0.2906 - accuracy: 0.8840 - val_loss: 0.2933 - val_accuracy: 0.8867\n",
            "Epoch 34/50\n",
            "1500/1500 [==============================] - 5s 3ms/step - loss: 0.2874 - accuracy: 0.8858 - val_loss: 0.2974 - val_accuracy: 0.8832\n",
            "Epoch 35/50\n",
            "1500/1500 [==============================] - 5s 3ms/step - loss: 0.2836 - accuracy: 0.8870 - val_loss: 0.2883 - val_accuracy: 0.8879\n",
            "Epoch 36/50\n",
            "1500/1500 [==============================] - 5s 3ms/step - loss: 0.2793 - accuracy: 0.8888 - val_loss: 0.2876 - val_accuracy: 0.8876\n",
            "Epoch 37/50\n",
            "1500/1500 [==============================] - 5s 3ms/step - loss: 0.2807 - accuracy: 0.8882 - val_loss: 0.2884 - val_accuracy: 0.8845\n",
            "Epoch 38/50\n",
            "1500/1500 [==============================] - 5s 3ms/step - loss: 0.2768 - accuracy: 0.8887 - val_loss: 0.2964 - val_accuracy: 0.8786\n",
            "Epoch 39/50\n",
            "1500/1500 [==============================] - 5s 3ms/step - loss: 0.2745 - accuracy: 0.8898 - val_loss: 0.2781 - val_accuracy: 0.8921\n",
            "Epoch 40/50\n",
            "1500/1500 [==============================] - 5s 3ms/step - loss: 0.2707 - accuracy: 0.8915 - val_loss: 0.2860 - val_accuracy: 0.8862\n",
            "Epoch 41/50\n",
            "1500/1500 [==============================] - 5s 3ms/step - loss: 0.2671 - accuracy: 0.8934 - val_loss: 0.2870 - val_accuracy: 0.8853\n",
            "Epoch 42/50\n",
            "1500/1500 [==============================] - 5s 3ms/step - loss: 0.2660 - accuracy: 0.8933 - val_loss: 0.2870 - val_accuracy: 0.8878\n",
            "Epoch 43/50\n",
            "1500/1500 [==============================] - 5s 3ms/step - loss: 0.2635 - accuracy: 0.8959 - val_loss: 0.2857 - val_accuracy: 0.8863\n",
            "Epoch 44/50\n",
            "1500/1500 [==============================] - 5s 3ms/step - loss: 0.2615 - accuracy: 0.8958 - val_loss: 0.2703 - val_accuracy: 0.8942\n",
            "Epoch 45/50\n",
            "1500/1500 [==============================] - 5s 3ms/step - loss: 0.2583 - accuracy: 0.8963 - val_loss: 0.2701 - val_accuracy: 0.8932\n",
            "Epoch 46/50\n",
            "1500/1500 [==============================] - 5s 3ms/step - loss: 0.2575 - accuracy: 0.8970 - val_loss: 0.2776 - val_accuracy: 0.8900\n",
            "Epoch 47/50\n",
            "1500/1500 [==============================] - 5s 3ms/step - loss: 0.2563 - accuracy: 0.8974 - val_loss: 0.2918 - val_accuracy: 0.8805\n",
            "Epoch 48/50\n",
            "1500/1500 [==============================] - 5s 3ms/step - loss: 0.2521 - accuracy: 0.8978 - val_loss: 0.2698 - val_accuracy: 0.8942\n",
            "Epoch 49/50\n",
            "1487/1500 [============================>.] - ETA: 0s - loss: 0.2501 - accuracy: 0.9001Restoring model weights from the end of the best epoch.\n",
            "1500/1500 [==============================] - 5s 3ms/step - loss: 0.2504 - accuracy: 0.8999 - val_loss: 0.2729 - val_accuracy: 0.8923\n",
            "Epoch 00049: early stopping\n"
          ],
          "name": "stdout"
        },
        {
          "output_type": "display_data",
          "data": {
            "text/html": [
              "<span style=\"color:#4527A0\"><h1 style=\"font-size:18px\">Trial complete</h1></span>"
            ],
            "text/plain": [
              "<IPython.core.display.HTML object>"
            ]
          },
          "metadata": {
            "tags": []
          }
        },
        {
          "output_type": "display_data",
          "data": {
            "text/html": [
              "<span style=\"color:#4527A0\"><h1 style=\"font-size:18px\">Trial summary</h1></span>"
            ],
            "text/plain": [
              "<IPython.core.display.HTML object>"
            ]
          },
          "metadata": {
            "tags": []
          }
        },
        {
          "output_type": "display_data",
          "data": {
            "text/html": [
              "<span style=\"color:cyan\"> |-Trial ID: 8757204fa2d7831719084adf05f8c856</span>"
            ],
            "text/plain": [
              "<IPython.core.display.HTML object>"
            ]
          },
          "metadata": {
            "tags": []
          }
        },
        {
          "output_type": "display_data",
          "data": {
            "text/html": [
              "<span style=\"color:cyan\"> |-Score: 0.8942499756813049</span>"
            ],
            "text/plain": [
              "<IPython.core.display.HTML object>"
            ]
          },
          "metadata": {
            "tags": []
          }
        },
        {
          "output_type": "display_data",
          "data": {
            "text/html": [
              "<span style=\"color:cyan\"> |-Best step: 0</span>"
            ],
            "text/plain": [
              "<IPython.core.display.HTML object>"
            ]
          },
          "metadata": {
            "tags": []
          }
        },
        {
          "output_type": "display_data",
          "data": {
            "text/html": [
              "<span style=\"color:#7E57C2\"><h2 style=\"font-size:16px\">Hyperparameters:</h2></span>"
            ],
            "text/plain": [
              "<IPython.core.display.HTML object>"
            ]
          },
          "metadata": {
            "tags": []
          }
        },
        {
          "output_type": "display_data",
          "data": {
            "text/html": [
              "<span style=\"color:cyan\"> |-dense_unit: 80</span>"
            ],
            "text/plain": [
              "<IPython.core.display.HTML object>"
            ]
          },
          "metadata": {
            "tags": []
          }
        },
        {
          "output_type": "display_data",
          "data": {
            "text/html": [
              "<span style=\"color:blue\"> |-filter_1: 32</span>"
            ],
            "text/plain": [
              "<IPython.core.display.HTML object>"
            ]
          },
          "metadata": {
            "tags": []
          }
        },
        {
          "output_type": "display_data",
          "data": {
            "text/html": [
              "<span style=\"color:cyan\"> |-filter_2: 96</span>"
            ],
            "text/plain": [
              "<IPython.core.display.HTML object>"
            ]
          },
          "metadata": {
            "tags": []
          }
        },
        {
          "output_type": "display_data",
          "data": {
            "text/html": [
              "<span style=\"color:blue\"> |-kernel_1: 5</span>"
            ],
            "text/plain": [
              "<IPython.core.display.HTML object>"
            ]
          },
          "metadata": {
            "tags": []
          }
        },
        {
          "output_type": "display_data",
          "data": {
            "text/html": [
              "<span style=\"color:cyan\"> |-kernel_2: 3</span>"
            ],
            "text/plain": [
              "<IPython.core.display.HTML object>"
            ]
          },
          "metadata": {
            "tags": []
          }
        },
        {
          "output_type": "display_data",
          "data": {
            "text/html": [
              "<span style=\"color:blue\"> |-learning_rate: 0.0001</span>"
            ],
            "text/plain": [
              "<IPython.core.display.HTML object>"
            ]
          },
          "metadata": {
            "tags": []
          }
        },
        {
          "output_type": "stream",
          "text": [
            "Epoch 1/50\n",
            "1500/1500 [==============================] - 6s 4ms/step - loss: 0.8082 - accuracy: 0.6542 - val_loss: 0.5934 - val_accuracy: 0.7616\n",
            "Epoch 2/50\n",
            "1500/1500 [==============================] - 6s 4ms/step - loss: 0.5745 - accuracy: 0.7637 - val_loss: 0.5180 - val_accuracy: 0.7926\n",
            "Epoch 3/50\n",
            "1500/1500 [==============================] - 6s 4ms/step - loss: 0.5133 - accuracy: 0.7932 - val_loss: 0.4761 - val_accuracy: 0.8131\n",
            "Epoch 4/50\n",
            "1500/1500 [==============================] - 6s 4ms/step - loss: 0.4776 - accuracy: 0.8114 - val_loss: 0.4556 - val_accuracy: 0.8202\n",
            "Epoch 5/50\n",
            "1500/1500 [==============================] - 6s 4ms/step - loss: 0.4479 - accuracy: 0.8229 - val_loss: 0.4307 - val_accuracy: 0.8285\n",
            "Epoch 6/50\n",
            "1500/1500 [==============================] - 6s 4ms/step - loss: 0.4265 - accuracy: 0.8320 - val_loss: 0.3956 - val_accuracy: 0.8495\n",
            "Epoch 7/50\n",
            "1500/1500 [==============================] - 6s 4ms/step - loss: 0.4065 - accuracy: 0.8413 - val_loss: 0.3822 - val_accuracy: 0.8525\n",
            "Epoch 8/50\n",
            "1500/1500 [==============================] - 6s 4ms/step - loss: 0.3935 - accuracy: 0.8432 - val_loss: 0.3742 - val_accuracy: 0.8542\n",
            "Epoch 9/50\n",
            "1500/1500 [==============================] - 6s 4ms/step - loss: 0.3822 - accuracy: 0.8491 - val_loss: 0.3706 - val_accuracy: 0.8537\n",
            "Epoch 10/50\n",
            "1500/1500 [==============================] - 6s 4ms/step - loss: 0.3712 - accuracy: 0.8539 - val_loss: 0.3634 - val_accuracy: 0.8558\n",
            "Epoch 11/50\n",
            "1500/1500 [==============================] - 6s 4ms/step - loss: 0.3615 - accuracy: 0.8567 - val_loss: 0.3469 - val_accuracy: 0.8666\n",
            "Epoch 12/50\n",
            "1500/1500 [==============================] - 6s 4ms/step - loss: 0.3543 - accuracy: 0.8589 - val_loss: 0.3372 - val_accuracy: 0.8703\n",
            "Epoch 13/50\n",
            "1500/1500 [==============================] - 6s 4ms/step - loss: 0.3444 - accuracy: 0.8638 - val_loss: 0.3355 - val_accuracy: 0.8679\n",
            "Epoch 14/50\n",
            "1500/1500 [==============================] - 6s 4ms/step - loss: 0.3352 - accuracy: 0.8682 - val_loss: 0.3274 - val_accuracy: 0.8717\n",
            "Epoch 15/50\n",
            "1500/1500 [==============================] - 6s 4ms/step - loss: 0.3304 - accuracy: 0.8684 - val_loss: 0.3311 - val_accuracy: 0.8714\n",
            "Epoch 16/50\n",
            "1500/1500 [==============================] - 6s 4ms/step - loss: 0.3230 - accuracy: 0.8713 - val_loss: 0.3191 - val_accuracy: 0.8746\n",
            "Epoch 17/50\n",
            "1500/1500 [==============================] - 6s 4ms/step - loss: 0.3188 - accuracy: 0.8727 - val_loss: 0.3172 - val_accuracy: 0.8743\n",
            "Epoch 18/50\n",
            "1500/1500 [==============================] - 6s 4ms/step - loss: 0.3127 - accuracy: 0.8745 - val_loss: 0.3157 - val_accuracy: 0.8771\n",
            "Epoch 19/50\n",
            "1500/1500 [==============================] - 6s 4ms/step - loss: 0.3079 - accuracy: 0.8758 - val_loss: 0.3138 - val_accuracy: 0.8777\n",
            "Epoch 20/50\n",
            "1500/1500 [==============================] - 6s 4ms/step - loss: 0.3054 - accuracy: 0.8781 - val_loss: 0.3100 - val_accuracy: 0.8765\n",
            "Epoch 21/50\n",
            "1500/1500 [==============================] - 6s 4ms/step - loss: 0.2995 - accuracy: 0.8798 - val_loss: 0.3130 - val_accuracy: 0.8743\n",
            "Epoch 22/50\n",
            "1500/1500 [==============================] - 6s 4ms/step - loss: 0.2964 - accuracy: 0.8818 - val_loss: 0.3150 - val_accuracy: 0.8728\n",
            "Epoch 23/50\n",
            "1500/1500 [==============================] - 6s 4ms/step - loss: 0.2884 - accuracy: 0.8860 - val_loss: 0.3076 - val_accuracy: 0.8773\n",
            "Epoch 24/50\n",
            "1500/1500 [==============================] - 6s 4ms/step - loss: 0.2877 - accuracy: 0.8853 - val_loss: 0.3357 - val_accuracy: 0.8642\n",
            "Epoch 25/50\n",
            "1500/1500 [==============================] - 6s 4ms/step - loss: 0.2848 - accuracy: 0.8862 - val_loss: 0.2925 - val_accuracy: 0.8862\n",
            "Epoch 26/50\n",
            "1500/1500 [==============================] - 6s 4ms/step - loss: 0.2788 - accuracy: 0.8895 - val_loss: 0.2953 - val_accuracy: 0.8842\n",
            "Epoch 27/50\n",
            "1500/1500 [==============================] - 6s 4ms/step - loss: 0.2774 - accuracy: 0.8882 - val_loss: 0.3021 - val_accuracy: 0.8785\n",
            "Epoch 28/50\n",
            "1500/1500 [==============================] - 6s 4ms/step - loss: 0.2745 - accuracy: 0.8896 - val_loss: 0.2928 - val_accuracy: 0.8819\n",
            "Epoch 29/50\n",
            "1500/1500 [==============================] - 6s 4ms/step - loss: 0.2714 - accuracy: 0.8918 - val_loss: 0.2982 - val_accuracy: 0.8832\n",
            "Epoch 30/50\n",
            "1498/1500 [============================>.] - ETA: 0s - loss: 0.2649 - accuracy: 0.8935Restoring model weights from the end of the best epoch.\n",
            "1500/1500 [==============================] - 6s 4ms/step - loss: 0.2648 - accuracy: 0.8935 - val_loss: 0.2949 - val_accuracy: 0.8830\n",
            "Epoch 00030: early stopping\n"
          ],
          "name": "stdout"
        },
        {
          "output_type": "display_data",
          "data": {
            "text/html": [
              "<span style=\"color:#4527A0\"><h1 style=\"font-size:18px\">Trial complete</h1></span>"
            ],
            "text/plain": [
              "<IPython.core.display.HTML object>"
            ]
          },
          "metadata": {
            "tags": []
          }
        },
        {
          "output_type": "display_data",
          "data": {
            "text/html": [
              "<span style=\"color:#4527A0\"><h1 style=\"font-size:18px\">Trial summary</h1></span>"
            ],
            "text/plain": [
              "<IPython.core.display.HTML object>"
            ]
          },
          "metadata": {
            "tags": []
          }
        },
        {
          "output_type": "display_data",
          "data": {
            "text/html": [
              "<span style=\"color:cyan\"> |-Trial ID: 4b2b4b4a17ae736e0a30331e06927e78</span>"
            ],
            "text/plain": [
              "<IPython.core.display.HTML object>"
            ]
          },
          "metadata": {
            "tags": []
          }
        },
        {
          "output_type": "display_data",
          "data": {
            "text/html": [
              "<span style=\"color:cyan\"> |-Score: 0.8861666917800903</span>"
            ],
            "text/plain": [
              "<IPython.core.display.HTML object>"
            ]
          },
          "metadata": {
            "tags": []
          }
        },
        {
          "output_type": "display_data",
          "data": {
            "text/html": [
              "<span style=\"color:cyan\"> |-Best step: 0</span>"
            ],
            "text/plain": [
              "<IPython.core.display.HTML object>"
            ]
          },
          "metadata": {
            "tags": []
          }
        },
        {
          "output_type": "display_data",
          "data": {
            "text/html": [
              "<span style=\"color:#7E57C2\"><h2 style=\"font-size:16px\">Hyperparameters:</h2></span>"
            ],
            "text/plain": [
              "<IPython.core.display.HTML object>"
            ]
          },
          "metadata": {
            "tags": []
          }
        },
        {
          "output_type": "display_data",
          "data": {
            "text/html": [
              "<span style=\"color:cyan\"> |-dense_unit: 128</span>"
            ],
            "text/plain": [
              "<IPython.core.display.HTML object>"
            ]
          },
          "metadata": {
            "tags": []
          }
        },
        {
          "output_type": "display_data",
          "data": {
            "text/html": [
              "<span style=\"color:blue\"> |-filter_1: 48</span>"
            ],
            "text/plain": [
              "<IPython.core.display.HTML object>"
            ]
          },
          "metadata": {
            "tags": []
          }
        },
        {
          "output_type": "display_data",
          "data": {
            "text/html": [
              "<span style=\"color:cyan\"> |-filter_2: 112</span>"
            ],
            "text/plain": [
              "<IPython.core.display.HTML object>"
            ]
          },
          "metadata": {
            "tags": []
          }
        },
        {
          "output_type": "display_data",
          "data": {
            "text/html": [
              "<span style=\"color:blue\"> |-kernel_1: 3</span>"
            ],
            "text/plain": [
              "<IPython.core.display.HTML object>"
            ]
          },
          "metadata": {
            "tags": []
          }
        },
        {
          "output_type": "display_data",
          "data": {
            "text/html": [
              "<span style=\"color:cyan\"> |-kernel_2: 3</span>"
            ],
            "text/plain": [
              "<IPython.core.display.HTML object>"
            ]
          },
          "metadata": {
            "tags": []
          }
        },
        {
          "output_type": "display_data",
          "data": {
            "text/html": [
              "<span style=\"color:blue\"> |-learning_rate: 0.0001</span>"
            ],
            "text/plain": [
              "<IPython.core.display.HTML object>"
            ]
          },
          "metadata": {
            "tags": []
          }
        },
        {
          "output_type": "stream",
          "text": [
            "Epoch 1/50\n",
            "1500/1500 [==============================] - 7s 5ms/step - loss: 0.5965 - accuracy: 0.7491 - val_loss: 0.4538 - val_accuracy: 0.8125\n",
            "Epoch 2/50\n",
            "1500/1500 [==============================] - 8s 5ms/step - loss: 0.4358 - accuracy: 0.8230 - val_loss: 0.3838 - val_accuracy: 0.8442\n",
            "Epoch 3/50\n",
            "1500/1500 [==============================] - 8s 5ms/step - loss: 0.3931 - accuracy: 0.8410 - val_loss: 0.3568 - val_accuracy: 0.8539\n",
            "Epoch 4/50\n",
            "1500/1500 [==============================] - 7s 5ms/step - loss: 0.3605 - accuracy: 0.8538 - val_loss: 0.3374 - val_accuracy: 0.8636\n",
            "Epoch 5/50\n",
            "1500/1500 [==============================] - 7s 5ms/step - loss: 0.3324 - accuracy: 0.8658 - val_loss: 0.3270 - val_accuracy: 0.8630\n",
            "Epoch 6/50\n",
            "1500/1500 [==============================] - 7s 5ms/step - loss: 0.3120 - accuracy: 0.8727 - val_loss: 0.3208 - val_accuracy: 0.8703\n",
            "Epoch 7/50\n",
            "1500/1500 [==============================] - 7s 5ms/step - loss: 0.2964 - accuracy: 0.8787 - val_loss: 0.3369 - val_accuracy: 0.8653\n",
            "Epoch 8/50\n",
            "1500/1500 [==============================] - 7s 5ms/step - loss: 0.2842 - accuracy: 0.8845 - val_loss: 0.3171 - val_accuracy: 0.8723\n",
            "Epoch 9/50\n",
            "1500/1500 [==============================] - 7s 5ms/step - loss: 0.2673 - accuracy: 0.8920 - val_loss: 0.3176 - val_accuracy: 0.8732\n",
            "Epoch 10/50\n",
            "1500/1500 [==============================] - 7s 5ms/step - loss: 0.2557 - accuracy: 0.8957 - val_loss: 0.3394 - val_accuracy: 0.8658\n",
            "Epoch 11/50\n",
            "1500/1500 [==============================] - 7s 5ms/step - loss: 0.2456 - accuracy: 0.8990 - val_loss: 0.3079 - val_accuracy: 0.8792\n",
            "Epoch 12/50\n",
            "1500/1500 [==============================] - 7s 5ms/step - loss: 0.2356 - accuracy: 0.9037 - val_loss: 0.3060 - val_accuracy: 0.8786\n",
            "Epoch 13/50\n",
            "1500/1500 [==============================] - 7s 5ms/step - loss: 0.2262 - accuracy: 0.9074 - val_loss: 0.3186 - val_accuracy: 0.8762\n",
            "Epoch 14/50\n",
            "1500/1500 [==============================] - 7s 5ms/step - loss: 0.2190 - accuracy: 0.9119 - val_loss: 0.3085 - val_accuracy: 0.8819\n",
            "Epoch 15/50\n",
            "1500/1500 [==============================] - 7s 5ms/step - loss: 0.2115 - accuracy: 0.9143 - val_loss: 0.3359 - val_accuracy: 0.8703\n",
            "Epoch 16/50\n",
            "1500/1500 [==============================] - 7s 5ms/step - loss: 0.2059 - accuracy: 0.9176 - val_loss: 0.3752 - val_accuracy: 0.8635\n",
            "Epoch 17/50\n",
            "1493/1500 [============================>.] - ETA: 0s - loss: 0.2001 - accuracy: 0.9197Restoring model weights from the end of the best epoch.\n",
            "1500/1500 [==============================] - 7s 5ms/step - loss: 0.2001 - accuracy: 0.9197 - val_loss: 0.3412 - val_accuracy: 0.8727\n",
            "Epoch 00017: early stopping\n"
          ],
          "name": "stdout"
        },
        {
          "output_type": "display_data",
          "data": {
            "text/html": [
              "<span style=\"color:#4527A0\"><h1 style=\"font-size:18px\">Trial complete</h1></span>"
            ],
            "text/plain": [
              "<IPython.core.display.HTML object>"
            ]
          },
          "metadata": {
            "tags": []
          }
        },
        {
          "output_type": "display_data",
          "data": {
            "text/html": [
              "<span style=\"color:#4527A0\"><h1 style=\"font-size:18px\">Trial summary</h1></span>"
            ],
            "text/plain": [
              "<IPython.core.display.HTML object>"
            ]
          },
          "metadata": {
            "tags": []
          }
        },
        {
          "output_type": "display_data",
          "data": {
            "text/html": [
              "<span style=\"color:cyan\"> |-Trial ID: e69130c108c3b2c638ab7e715e829d8e</span>"
            ],
            "text/plain": [
              "<IPython.core.display.HTML object>"
            ]
          },
          "metadata": {
            "tags": []
          }
        },
        {
          "output_type": "display_data",
          "data": {
            "text/html": [
              "<span style=\"color:cyan\"> |-Score: 0.8819166421890259</span>"
            ],
            "text/plain": [
              "<IPython.core.display.HTML object>"
            ]
          },
          "metadata": {
            "tags": []
          }
        },
        {
          "output_type": "display_data",
          "data": {
            "text/html": [
              "<span style=\"color:cyan\"> |-Best step: 0</span>"
            ],
            "text/plain": [
              "<IPython.core.display.HTML object>"
            ]
          },
          "metadata": {
            "tags": []
          }
        },
        {
          "output_type": "display_data",
          "data": {
            "text/html": [
              "<span style=\"color:#7E57C2\"><h2 style=\"font-size:16px\">Hyperparameters:</h2></span>"
            ],
            "text/plain": [
              "<IPython.core.display.HTML object>"
            ]
          },
          "metadata": {
            "tags": []
          }
        },
        {
          "output_type": "display_data",
          "data": {
            "text/html": [
              "<span style=\"color:cyan\"> |-dense_unit: 48</span>"
            ],
            "text/plain": [
              "<IPython.core.display.HTML object>"
            ]
          },
          "metadata": {
            "tags": []
          }
        },
        {
          "output_type": "display_data",
          "data": {
            "text/html": [
              "<span style=\"color:blue\"> |-filter_1: 64</span>"
            ],
            "text/plain": [
              "<IPython.core.display.HTML object>"
            ]
          },
          "metadata": {
            "tags": []
          }
        },
        {
          "output_type": "display_data",
          "data": {
            "text/html": [
              "<span style=\"color:cyan\"> |-filter_2: 112</span>"
            ],
            "text/plain": [
              "<IPython.core.display.HTML object>"
            ]
          },
          "metadata": {
            "tags": []
          }
        },
        {
          "output_type": "display_data",
          "data": {
            "text/html": [
              "<span style=\"color:blue\"> |-kernel_1: 3</span>"
            ],
            "text/plain": [
              "<IPython.core.display.HTML object>"
            ]
          },
          "metadata": {
            "tags": []
          }
        },
        {
          "output_type": "display_data",
          "data": {
            "text/html": [
              "<span style=\"color:cyan\"> |-kernel_2: 5</span>"
            ],
            "text/plain": [
              "<IPython.core.display.HTML object>"
            ]
          },
          "metadata": {
            "tags": []
          }
        },
        {
          "output_type": "display_data",
          "data": {
            "text/html": [
              "<span style=\"color:blue\"> |-learning_rate: 0.001</span>"
            ],
            "text/plain": [
              "<IPython.core.display.HTML object>"
            ]
          },
          "metadata": {
            "tags": []
          }
        },
        {
          "output_type": "stream",
          "text": [
            "Epoch 1/50\n",
            "1500/1500 [==============================] - 5s 4ms/step - loss: 0.8954 - accuracy: 0.6113 - val_loss: 0.6700 - val_accuracy: 0.7237\n",
            "Epoch 2/50\n",
            "1500/1500 [==============================] - 5s 4ms/step - loss: 0.6484 - accuracy: 0.7319 - val_loss: 0.5796 - val_accuracy: 0.7664\n",
            "Epoch 3/50\n",
            "1500/1500 [==============================] - 5s 4ms/step - loss: 0.5837 - accuracy: 0.7617 - val_loss: 0.5254 - val_accuracy: 0.7903\n",
            "Epoch 4/50\n",
            "1500/1500 [==============================] - 5s 4ms/step - loss: 0.5431 - accuracy: 0.7818 - val_loss: 0.4947 - val_accuracy: 0.8040\n",
            "Epoch 5/50\n",
            "1500/1500 [==============================] - 5s 4ms/step - loss: 0.5140 - accuracy: 0.7930 - val_loss: 0.4793 - val_accuracy: 0.8121\n",
            "Epoch 6/50\n",
            "1500/1500 [==============================] - 5s 4ms/step - loss: 0.4947 - accuracy: 0.8015 - val_loss: 0.4495 - val_accuracy: 0.8213\n",
            "Epoch 7/50\n",
            "1500/1500 [==============================] - 5s 4ms/step - loss: 0.4726 - accuracy: 0.8118 - val_loss: 0.4460 - val_accuracy: 0.8222\n",
            "Epoch 8/50\n",
            "1500/1500 [==============================] - 5s 4ms/step - loss: 0.4573 - accuracy: 0.8187 - val_loss: 0.4214 - val_accuracy: 0.8360\n",
            "Epoch 9/50\n",
            "1500/1500 [==============================] - 5s 4ms/step - loss: 0.4439 - accuracy: 0.8228 - val_loss: 0.4151 - val_accuracy: 0.8397\n",
            "Epoch 10/50\n",
            "1500/1500 [==============================] - 5s 4ms/step - loss: 0.4345 - accuracy: 0.8255 - val_loss: 0.3991 - val_accuracy: 0.8447\n",
            "Epoch 11/50\n",
            "1500/1500 [==============================] - 5s 4ms/step - loss: 0.4239 - accuracy: 0.8310 - val_loss: 0.3983 - val_accuracy: 0.8432\n",
            "Epoch 12/50\n",
            "1500/1500 [==============================] - 5s 4ms/step - loss: 0.4144 - accuracy: 0.8368 - val_loss: 0.3949 - val_accuracy: 0.8427\n",
            "Epoch 13/50\n",
            "1500/1500 [==============================] - 5s 4ms/step - loss: 0.4051 - accuracy: 0.8402 - val_loss: 0.3728 - val_accuracy: 0.8525\n",
            "Epoch 14/50\n",
            "1500/1500 [==============================] - 5s 4ms/step - loss: 0.3967 - accuracy: 0.8431 - val_loss: 0.3704 - val_accuracy: 0.8556\n",
            "Epoch 15/50\n",
            "1500/1500 [==============================] - 5s 4ms/step - loss: 0.3905 - accuracy: 0.8449 - val_loss: 0.3653 - val_accuracy: 0.8589\n",
            "Epoch 16/50\n",
            "1500/1500 [==============================] - 5s 4ms/step - loss: 0.3826 - accuracy: 0.8479 - val_loss: 0.3607 - val_accuracy: 0.8608\n",
            "Epoch 17/50\n",
            "1500/1500 [==============================] - 5s 4ms/step - loss: 0.3768 - accuracy: 0.8512 - val_loss: 0.3502 - val_accuracy: 0.8637\n",
            "Epoch 18/50\n",
            "1500/1500 [==============================] - 5s 4ms/step - loss: 0.3701 - accuracy: 0.8551 - val_loss: 0.3536 - val_accuracy: 0.8573\n",
            "Epoch 19/50\n",
            "1500/1500 [==============================] - 5s 4ms/step - loss: 0.3645 - accuracy: 0.8564 - val_loss: 0.3723 - val_accuracy: 0.8516\n",
            "Epoch 20/50\n",
            "1500/1500 [==============================] - 5s 4ms/step - loss: 0.3610 - accuracy: 0.8582 - val_loss: 0.3430 - val_accuracy: 0.8636\n",
            "Epoch 21/50\n",
            "1500/1500 [==============================] - 5s 4ms/step - loss: 0.3561 - accuracy: 0.8581 - val_loss: 0.3372 - val_accuracy: 0.8675\n",
            "Epoch 22/50\n",
            "1500/1500 [==============================] - 5s 4ms/step - loss: 0.3529 - accuracy: 0.8589 - val_loss: 0.3494 - val_accuracy: 0.8598\n",
            "Epoch 23/50\n",
            "1500/1500 [==============================] - 5s 4ms/step - loss: 0.3478 - accuracy: 0.8619 - val_loss: 0.3413 - val_accuracy: 0.8648\n",
            "Epoch 24/50\n",
            "1500/1500 [==============================] - 5s 4ms/step - loss: 0.3427 - accuracy: 0.8641 - val_loss: 0.3388 - val_accuracy: 0.8668\n",
            "Epoch 25/50\n",
            "1500/1500 [==============================] - 5s 4ms/step - loss: 0.3405 - accuracy: 0.8649 - val_loss: 0.3395 - val_accuracy: 0.8638\n",
            "Epoch 26/50\n",
            "1500/1500 [==============================] - 5s 4ms/step - loss: 0.3342 - accuracy: 0.8668 - val_loss: 0.3329 - val_accuracy: 0.8678\n",
            "Epoch 27/50\n",
            "1500/1500 [==============================] - 5s 4ms/step - loss: 0.3335 - accuracy: 0.8673 - val_loss: 0.3452 - val_accuracy: 0.8617\n",
            "Epoch 28/50\n",
            "1500/1500 [==============================] - 5s 4ms/step - loss: 0.3306 - accuracy: 0.8687 - val_loss: 0.3222 - val_accuracy: 0.8710\n",
            "Epoch 29/50\n",
            "1500/1500 [==============================] - 5s 4ms/step - loss: 0.3249 - accuracy: 0.8711 - val_loss: 0.3188 - val_accuracy: 0.8749\n",
            "Epoch 30/50\n",
            "1500/1500 [==============================] - 5s 4ms/step - loss: 0.3225 - accuracy: 0.8721 - val_loss: 0.3137 - val_accuracy: 0.8763\n",
            "Epoch 31/50\n",
            "1500/1500 [==============================] - 5s 4ms/step - loss: 0.3210 - accuracy: 0.8718 - val_loss: 0.3148 - val_accuracy: 0.8768\n",
            "Epoch 32/50\n",
            "1500/1500 [==============================] - 5s 4ms/step - loss: 0.3162 - accuracy: 0.8749 - val_loss: 0.3183 - val_accuracy: 0.8763\n",
            "Epoch 33/50\n",
            "1500/1500 [==============================] - 5s 4ms/step - loss: 0.3130 - accuracy: 0.8758 - val_loss: 0.3075 - val_accuracy: 0.8797\n",
            "Epoch 34/50\n",
            "1500/1500 [==============================] - 5s 4ms/step - loss: 0.3106 - accuracy: 0.8768 - val_loss: 0.3060 - val_accuracy: 0.8794\n",
            "Epoch 35/50\n",
            "1500/1500 [==============================] - 5s 4ms/step - loss: 0.3116 - accuracy: 0.8745 - val_loss: 0.3033 - val_accuracy: 0.8817\n",
            "Epoch 36/50\n",
            "1500/1500 [==============================] - 5s 4ms/step - loss: 0.3064 - accuracy: 0.8775 - val_loss: 0.3120 - val_accuracy: 0.8755\n",
            "Epoch 37/50\n",
            "1500/1500 [==============================] - 6s 4ms/step - loss: 0.3036 - accuracy: 0.8791 - val_loss: 0.3044 - val_accuracy: 0.8801\n",
            "Epoch 38/50\n",
            "1500/1500 [==============================] - 6s 4ms/step - loss: 0.3028 - accuracy: 0.8801 - val_loss: 0.3007 - val_accuracy: 0.8812\n",
            "Epoch 39/50\n",
            "1500/1500 [==============================] - 5s 4ms/step - loss: 0.2987 - accuracy: 0.8815 - val_loss: 0.2971 - val_accuracy: 0.8823\n",
            "Epoch 40/50\n",
            "1500/1500 [==============================] - 5s 4ms/step - loss: 0.2953 - accuracy: 0.8827 - val_loss: 0.3001 - val_accuracy: 0.8824\n",
            "Epoch 41/50\n",
            "1500/1500 [==============================] - 6s 4ms/step - loss: 0.2943 - accuracy: 0.8839 - val_loss: 0.2968 - val_accuracy: 0.8840\n",
            "Epoch 42/50\n",
            "1500/1500 [==============================] - 5s 4ms/step - loss: 0.2942 - accuracy: 0.8817 - val_loss: 0.3063 - val_accuracy: 0.8783\n",
            "Epoch 43/50\n",
            "1500/1500 [==============================] - 5s 4ms/step - loss: 0.2937 - accuracy: 0.8829 - val_loss: 0.2975 - val_accuracy: 0.8827\n",
            "Epoch 44/50\n",
            "1496/1500 [============================>.] - ETA: 0s - loss: 0.2885 - accuracy: 0.8850Restoring model weights from the end of the best epoch.\n",
            "1500/1500 [==============================] - 5s 4ms/step - loss: 0.2886 - accuracy: 0.8850 - val_loss: 0.3129 - val_accuracy: 0.8763\n",
            "Epoch 00044: early stopping\n"
          ],
          "name": "stdout"
        },
        {
          "output_type": "display_data",
          "data": {
            "text/html": [
              "<span style=\"color:#4527A0\"><h1 style=\"font-size:18px\">Trial complete</h1></span>"
            ],
            "text/plain": [
              "<IPython.core.display.HTML object>"
            ]
          },
          "metadata": {
            "tags": []
          }
        },
        {
          "output_type": "display_data",
          "data": {
            "text/html": [
              "<span style=\"color:#4527A0\"><h1 style=\"font-size:18px\">Trial summary</h1></span>"
            ],
            "text/plain": [
              "<IPython.core.display.HTML object>"
            ]
          },
          "metadata": {
            "tags": []
          }
        },
        {
          "output_type": "display_data",
          "data": {
            "text/html": [
              "<span style=\"color:cyan\"> |-Trial ID: 18fd747473ab304e4d4c1efd55115c33</span>"
            ],
            "text/plain": [
              "<IPython.core.display.HTML object>"
            ]
          },
          "metadata": {
            "tags": []
          }
        },
        {
          "output_type": "display_data",
          "data": {
            "text/html": [
              "<span style=\"color:cyan\"> |-Score: 0.8840000033378601</span>"
            ],
            "text/plain": [
              "<IPython.core.display.HTML object>"
            ]
          },
          "metadata": {
            "tags": []
          }
        },
        {
          "output_type": "display_data",
          "data": {
            "text/html": [
              "<span style=\"color:cyan\"> |-Best step: 0</span>"
            ],
            "text/plain": [
              "<IPython.core.display.HTML object>"
            ]
          },
          "metadata": {
            "tags": []
          }
        },
        {
          "output_type": "display_data",
          "data": {
            "text/html": [
              "<span style=\"color:#7E57C2\"><h2 style=\"font-size:16px\">Hyperparameters:</h2></span>"
            ],
            "text/plain": [
              "<IPython.core.display.HTML object>"
            ]
          },
          "metadata": {
            "tags": []
          }
        },
        {
          "output_type": "display_data",
          "data": {
            "text/html": [
              "<span style=\"color:cyan\"> |-dense_unit: 48</span>"
            ],
            "text/plain": [
              "<IPython.core.display.HTML object>"
            ]
          },
          "metadata": {
            "tags": []
          }
        },
        {
          "output_type": "display_data",
          "data": {
            "text/html": [
              "<span style=\"color:blue\"> |-filter_1: 32</span>"
            ],
            "text/plain": [
              "<IPython.core.display.HTML object>"
            ]
          },
          "metadata": {
            "tags": []
          }
        },
        {
          "output_type": "display_data",
          "data": {
            "text/html": [
              "<span style=\"color:cyan\"> |-filter_2: 64</span>"
            ],
            "text/plain": [
              "<IPython.core.display.HTML object>"
            ]
          },
          "metadata": {
            "tags": []
          }
        },
        {
          "output_type": "display_data",
          "data": {
            "text/html": [
              "<span style=\"color:blue\"> |-kernel_1: 3</span>"
            ],
            "text/plain": [
              "<IPython.core.display.HTML object>"
            ]
          },
          "metadata": {
            "tags": []
          }
        },
        {
          "output_type": "display_data",
          "data": {
            "text/html": [
              "<span style=\"color:cyan\"> |-kernel_2: 5</span>"
            ],
            "text/plain": [
              "<IPython.core.display.HTML object>"
            ]
          },
          "metadata": {
            "tags": []
          }
        },
        {
          "output_type": "display_data",
          "data": {
            "text/html": [
              "<span style=\"color:blue\"> |-learning_rate: 0.0001</span>"
            ],
            "text/plain": [
              "<IPython.core.display.HTML object>"
            ]
          },
          "metadata": {
            "tags": []
          }
        },
        {
          "output_type": "stream",
          "text": [
            "Epoch 1/50\n",
            "1500/1500 [==============================] - 6s 4ms/step - loss: 0.6376 - accuracy: 0.7325 - val_loss: 0.4734 - val_accuracy: 0.8046\n",
            "Epoch 2/50\n",
            "1500/1500 [==============================] - 6s 4ms/step - loss: 0.5214 - accuracy: 0.7845 - val_loss: 0.4391 - val_accuracy: 0.8240\n",
            "Epoch 3/50\n",
            "1500/1500 [==============================] - 6s 4ms/step - loss: 0.4970 - accuracy: 0.7972 - val_loss: 0.4677 - val_accuracy: 0.8040\n",
            "Epoch 4/50\n",
            "1500/1500 [==============================] - 6s 4ms/step - loss: 0.4848 - accuracy: 0.7992 - val_loss: 0.4715 - val_accuracy: 0.8029\n",
            "Epoch 5/50\n",
            "1500/1500 [==============================] - 6s 4ms/step - loss: 0.4745 - accuracy: 0.8060 - val_loss: 0.4765 - val_accuracy: 0.8004\n",
            "Epoch 6/50\n",
            "1500/1500 [==============================] - 6s 4ms/step - loss: 0.4724 - accuracy: 0.8063 - val_loss: 0.4191 - val_accuracy: 0.8231\n",
            "Epoch 7/50\n",
            "1500/1500 [==============================] - 6s 4ms/step - loss: 0.4658 - accuracy: 0.8111 - val_loss: 0.4889 - val_accuracy: 0.7893\n",
            "Epoch 8/50\n",
            "1500/1500 [==============================] - 6s 4ms/step - loss: 0.4678 - accuracy: 0.8077 - val_loss: 0.4292 - val_accuracy: 0.8206\n",
            "Epoch 9/50\n",
            "1500/1500 [==============================] - 6s 4ms/step - loss: 0.4587 - accuracy: 0.8100 - val_loss: 0.4426 - val_accuracy: 0.8197\n",
            "Epoch 10/50\n",
            "1500/1500 [==============================] - 6s 4ms/step - loss: 0.4681 - accuracy: 0.8090 - val_loss: 0.4638 - val_accuracy: 0.7997\n",
            "Epoch 11/50\n",
            "1494/1500 [============================>.] - ETA: 0s - loss: 0.4630 - accuracy: 0.8087Restoring model weights from the end of the best epoch.\n",
            "1500/1500 [==============================] - 6s 4ms/step - loss: 0.4626 - accuracy: 0.8089 - val_loss: 0.4310 - val_accuracy: 0.8154\n",
            "Epoch 00011: early stopping\n"
          ],
          "name": "stdout"
        },
        {
          "output_type": "display_data",
          "data": {
            "text/html": [
              "<span style=\"color:#4527A0\"><h1 style=\"font-size:18px\">Trial complete</h1></span>"
            ],
            "text/plain": [
              "<IPython.core.display.HTML object>"
            ]
          },
          "metadata": {
            "tags": []
          }
        },
        {
          "output_type": "display_data",
          "data": {
            "text/html": [
              "<span style=\"color:#4527A0\"><h1 style=\"font-size:18px\">Trial summary</h1></span>"
            ],
            "text/plain": [
              "<IPython.core.display.HTML object>"
            ]
          },
          "metadata": {
            "tags": []
          }
        },
        {
          "output_type": "display_data",
          "data": {
            "text/html": [
              "<span style=\"color:cyan\"> |-Trial ID: 1e5594f79ac5b44e2d2df45487c0e9cc</span>"
            ],
            "text/plain": [
              "<IPython.core.display.HTML object>"
            ]
          },
          "metadata": {
            "tags": []
          }
        },
        {
          "output_type": "display_data",
          "data": {
            "text/html": [
              "<span style=\"color:cyan\"> |-Score: 0.8240000009536743</span>"
            ],
            "text/plain": [
              "<IPython.core.display.HTML object>"
            ]
          },
          "metadata": {
            "tags": []
          }
        },
        {
          "output_type": "display_data",
          "data": {
            "text/html": [
              "<span style=\"color:cyan\"> |-Best step: 0</span>"
            ],
            "text/plain": [
              "<IPython.core.display.HTML object>"
            ]
          },
          "metadata": {
            "tags": []
          }
        },
        {
          "output_type": "display_data",
          "data": {
            "text/html": [
              "<span style=\"color:#7E57C2\"><h2 style=\"font-size:16px\">Hyperparameters:</h2></span>"
            ],
            "text/plain": [
              "<IPython.core.display.HTML object>"
            ]
          },
          "metadata": {
            "tags": []
          }
        },
        {
          "output_type": "display_data",
          "data": {
            "text/html": [
              "<span style=\"color:cyan\"> |-dense_unit: 80</span>"
            ],
            "text/plain": [
              "<IPython.core.display.HTML object>"
            ]
          },
          "metadata": {
            "tags": []
          }
        },
        {
          "output_type": "display_data",
          "data": {
            "text/html": [
              "<span style=\"color:blue\"> |-filter_1: 48</span>"
            ],
            "text/plain": [
              "<IPython.core.display.HTML object>"
            ]
          },
          "metadata": {
            "tags": []
          }
        },
        {
          "output_type": "display_data",
          "data": {
            "text/html": [
              "<span style=\"color:cyan\"> |-filter_2: 80</span>"
            ],
            "text/plain": [
              "<IPython.core.display.HTML object>"
            ]
          },
          "metadata": {
            "tags": []
          }
        },
        {
          "output_type": "display_data",
          "data": {
            "text/html": [
              "<span style=\"color:blue\"> |-kernel_1: 3</span>"
            ],
            "text/plain": [
              "<IPython.core.display.HTML object>"
            ]
          },
          "metadata": {
            "tags": []
          }
        },
        {
          "output_type": "display_data",
          "data": {
            "text/html": [
              "<span style=\"color:cyan\"> |-kernel_2: 3</span>"
            ],
            "text/plain": [
              "<IPython.core.display.HTML object>"
            ]
          },
          "metadata": {
            "tags": []
          }
        },
        {
          "output_type": "display_data",
          "data": {
            "text/html": [
              "<span style=\"color:blue\"> |-learning_rate: 0.01</span>"
            ],
            "text/plain": [
              "<IPython.core.display.HTML object>"
            ]
          },
          "metadata": {
            "tags": []
          }
        },
        {
          "output_type": "stream",
          "text": [
            "INFO:tensorflow:Oracle triggered exit\n"
          ],
          "name": "stdout"
        }
      ]
    },
    {
      "cell_type": "code",
      "metadata": {
        "id": "IyMHJ_fSJZJq",
        "colab_type": "code",
        "outputId": "d6b76faf-ab0d-474b-c068-916e793d18c0",
        "colab": {
          "base_uri": "https://localhost:8080/",
          "height": 1000
        }
      },
      "source": [
        "k_tuner.results_summary()"
      ],
      "execution_count": 0,
      "outputs": [
        {
          "output_type": "display_data",
          "data": {
            "text/html": [
              "<span style=\"color:#4527A0\"><h1 style=\"font-size:18px\">Results summary</h1></span>"
            ],
            "text/plain": [
              "<IPython.core.display.HTML object>"
            ]
          },
          "metadata": {
            "tags": []
          }
        },
        {
          "output_type": "display_data",
          "data": {
            "text/html": [
              "<span style=\"color:cyan\"> |-Results in output/untitled_project</span>"
            ],
            "text/plain": [
              "<IPython.core.display.HTML object>"
            ]
          },
          "metadata": {
            "tags": []
          }
        },
        {
          "output_type": "display_data",
          "data": {
            "text/html": [
              "<span style=\"color:cyan\"> |-Showing 10 best trials</span>"
            ],
            "text/plain": [
              "<IPython.core.display.HTML object>"
            ]
          },
          "metadata": {
            "tags": []
          }
        },
        {
          "output_type": "display_data",
          "data": {
            "text/html": [
              "<span style=\"color:cyan\"> |-Objective(name='val_accuracy', direction='max')</span>"
            ],
            "text/plain": [
              "<IPython.core.display.HTML object>"
            ]
          },
          "metadata": {
            "tags": []
          }
        },
        {
          "output_type": "display_data",
          "data": {
            "text/html": [
              "<span style=\"color:#4527A0\"><h1 style=\"font-size:18px\">Trial summary</h1></span>"
            ],
            "text/plain": [
              "<IPython.core.display.HTML object>"
            ]
          },
          "metadata": {
            "tags": []
          }
        },
        {
          "output_type": "display_data",
          "data": {
            "text/html": [
              "<span style=\"color:cyan\"> |-Trial ID: 8757204fa2d7831719084adf05f8c856</span>"
            ],
            "text/plain": [
              "<IPython.core.display.HTML object>"
            ]
          },
          "metadata": {
            "tags": []
          }
        },
        {
          "output_type": "display_data",
          "data": {
            "text/html": [
              "<span style=\"color:cyan\"> |-Score: 0.8942499756813049</span>"
            ],
            "text/plain": [
              "<IPython.core.display.HTML object>"
            ]
          },
          "metadata": {
            "tags": []
          }
        },
        {
          "output_type": "display_data",
          "data": {
            "text/html": [
              "<span style=\"color:cyan\"> |-Best step: 0</span>"
            ],
            "text/plain": [
              "<IPython.core.display.HTML object>"
            ]
          },
          "metadata": {
            "tags": []
          }
        },
        {
          "output_type": "display_data",
          "data": {
            "text/html": [
              "<span style=\"color:#7E57C2\"><h2 style=\"font-size:16px\">Hyperparameters:</h2></span>"
            ],
            "text/plain": [
              "<IPython.core.display.HTML object>"
            ]
          },
          "metadata": {
            "tags": []
          }
        },
        {
          "output_type": "display_data",
          "data": {
            "text/html": [
              "<span style=\"color:cyan\"> |-dense_unit: 80</span>"
            ],
            "text/plain": [
              "<IPython.core.display.HTML object>"
            ]
          },
          "metadata": {
            "tags": []
          }
        },
        {
          "output_type": "display_data",
          "data": {
            "text/html": [
              "<span style=\"color:blue\"> |-filter_1: 32</span>"
            ],
            "text/plain": [
              "<IPython.core.display.HTML object>"
            ]
          },
          "metadata": {
            "tags": []
          }
        },
        {
          "output_type": "display_data",
          "data": {
            "text/html": [
              "<span style=\"color:cyan\"> |-filter_2: 96</span>"
            ],
            "text/plain": [
              "<IPython.core.display.HTML object>"
            ]
          },
          "metadata": {
            "tags": []
          }
        },
        {
          "output_type": "display_data",
          "data": {
            "text/html": [
              "<span style=\"color:blue\"> |-kernel_1: 5</span>"
            ],
            "text/plain": [
              "<IPython.core.display.HTML object>"
            ]
          },
          "metadata": {
            "tags": []
          }
        },
        {
          "output_type": "display_data",
          "data": {
            "text/html": [
              "<span style=\"color:cyan\"> |-kernel_2: 3</span>"
            ],
            "text/plain": [
              "<IPython.core.display.HTML object>"
            ]
          },
          "metadata": {
            "tags": []
          }
        },
        {
          "output_type": "display_data",
          "data": {
            "text/html": [
              "<span style=\"color:blue\"> |-learning_rate: 0.0001</span>"
            ],
            "text/plain": [
              "<IPython.core.display.HTML object>"
            ]
          },
          "metadata": {
            "tags": []
          }
        },
        {
          "output_type": "display_data",
          "data": {
            "text/html": [
              "<span style=\"color:#4527A0\"><h1 style=\"font-size:18px\">Trial summary</h1></span>"
            ],
            "text/plain": [
              "<IPython.core.display.HTML object>"
            ]
          },
          "metadata": {
            "tags": []
          }
        },
        {
          "output_type": "display_data",
          "data": {
            "text/html": [
              "<span style=\"color:cyan\"> |-Trial ID: 4b2b4b4a17ae736e0a30331e06927e78</span>"
            ],
            "text/plain": [
              "<IPython.core.display.HTML object>"
            ]
          },
          "metadata": {
            "tags": []
          }
        },
        {
          "output_type": "display_data",
          "data": {
            "text/html": [
              "<span style=\"color:cyan\"> |-Score: 0.8861666917800903</span>"
            ],
            "text/plain": [
              "<IPython.core.display.HTML object>"
            ]
          },
          "metadata": {
            "tags": []
          }
        },
        {
          "output_type": "display_data",
          "data": {
            "text/html": [
              "<span style=\"color:cyan\"> |-Best step: 0</span>"
            ],
            "text/plain": [
              "<IPython.core.display.HTML object>"
            ]
          },
          "metadata": {
            "tags": []
          }
        },
        {
          "output_type": "display_data",
          "data": {
            "text/html": [
              "<span style=\"color:#7E57C2\"><h2 style=\"font-size:16px\">Hyperparameters:</h2></span>"
            ],
            "text/plain": [
              "<IPython.core.display.HTML object>"
            ]
          },
          "metadata": {
            "tags": []
          }
        },
        {
          "output_type": "display_data",
          "data": {
            "text/html": [
              "<span style=\"color:cyan\"> |-dense_unit: 128</span>"
            ],
            "text/plain": [
              "<IPython.core.display.HTML object>"
            ]
          },
          "metadata": {
            "tags": []
          }
        },
        {
          "output_type": "display_data",
          "data": {
            "text/html": [
              "<span style=\"color:blue\"> |-filter_1: 48</span>"
            ],
            "text/plain": [
              "<IPython.core.display.HTML object>"
            ]
          },
          "metadata": {
            "tags": []
          }
        },
        {
          "output_type": "display_data",
          "data": {
            "text/html": [
              "<span style=\"color:cyan\"> |-filter_2: 112</span>"
            ],
            "text/plain": [
              "<IPython.core.display.HTML object>"
            ]
          },
          "metadata": {
            "tags": []
          }
        },
        {
          "output_type": "display_data",
          "data": {
            "text/html": [
              "<span style=\"color:blue\"> |-kernel_1: 3</span>"
            ],
            "text/plain": [
              "<IPython.core.display.HTML object>"
            ]
          },
          "metadata": {
            "tags": []
          }
        },
        {
          "output_type": "display_data",
          "data": {
            "text/html": [
              "<span style=\"color:cyan\"> |-kernel_2: 3</span>"
            ],
            "text/plain": [
              "<IPython.core.display.HTML object>"
            ]
          },
          "metadata": {
            "tags": []
          }
        },
        {
          "output_type": "display_data",
          "data": {
            "text/html": [
              "<span style=\"color:blue\"> |-learning_rate: 0.0001</span>"
            ],
            "text/plain": [
              "<IPython.core.display.HTML object>"
            ]
          },
          "metadata": {
            "tags": []
          }
        },
        {
          "output_type": "display_data",
          "data": {
            "text/html": [
              "<span style=\"color:#4527A0\"><h1 style=\"font-size:18px\">Trial summary</h1></span>"
            ],
            "text/plain": [
              "<IPython.core.display.HTML object>"
            ]
          },
          "metadata": {
            "tags": []
          }
        },
        {
          "output_type": "display_data",
          "data": {
            "text/html": [
              "<span style=\"color:cyan\"> |-Trial ID: 18fd747473ab304e4d4c1efd55115c33</span>"
            ],
            "text/plain": [
              "<IPython.core.display.HTML object>"
            ]
          },
          "metadata": {
            "tags": []
          }
        },
        {
          "output_type": "display_data",
          "data": {
            "text/html": [
              "<span style=\"color:cyan\"> |-Score: 0.8840000033378601</span>"
            ],
            "text/plain": [
              "<IPython.core.display.HTML object>"
            ]
          },
          "metadata": {
            "tags": []
          }
        },
        {
          "output_type": "display_data",
          "data": {
            "text/html": [
              "<span style=\"color:cyan\"> |-Best step: 0</span>"
            ],
            "text/plain": [
              "<IPython.core.display.HTML object>"
            ]
          },
          "metadata": {
            "tags": []
          }
        },
        {
          "output_type": "display_data",
          "data": {
            "text/html": [
              "<span style=\"color:#7E57C2\"><h2 style=\"font-size:16px\">Hyperparameters:</h2></span>"
            ],
            "text/plain": [
              "<IPython.core.display.HTML object>"
            ]
          },
          "metadata": {
            "tags": []
          }
        },
        {
          "output_type": "display_data",
          "data": {
            "text/html": [
              "<span style=\"color:cyan\"> |-dense_unit: 48</span>"
            ],
            "text/plain": [
              "<IPython.core.display.HTML object>"
            ]
          },
          "metadata": {
            "tags": []
          }
        },
        {
          "output_type": "display_data",
          "data": {
            "text/html": [
              "<span style=\"color:blue\"> |-filter_1: 32</span>"
            ],
            "text/plain": [
              "<IPython.core.display.HTML object>"
            ]
          },
          "metadata": {
            "tags": []
          }
        },
        {
          "output_type": "display_data",
          "data": {
            "text/html": [
              "<span style=\"color:cyan\"> |-filter_2: 64</span>"
            ],
            "text/plain": [
              "<IPython.core.display.HTML object>"
            ]
          },
          "metadata": {
            "tags": []
          }
        },
        {
          "output_type": "display_data",
          "data": {
            "text/html": [
              "<span style=\"color:blue\"> |-kernel_1: 3</span>"
            ],
            "text/plain": [
              "<IPython.core.display.HTML object>"
            ]
          },
          "metadata": {
            "tags": []
          }
        },
        {
          "output_type": "display_data",
          "data": {
            "text/html": [
              "<span style=\"color:cyan\"> |-kernel_2: 5</span>"
            ],
            "text/plain": [
              "<IPython.core.display.HTML object>"
            ]
          },
          "metadata": {
            "tags": []
          }
        },
        {
          "output_type": "display_data",
          "data": {
            "text/html": [
              "<span style=\"color:blue\"> |-learning_rate: 0.0001</span>"
            ],
            "text/plain": [
              "<IPython.core.display.HTML object>"
            ]
          },
          "metadata": {
            "tags": []
          }
        },
        {
          "output_type": "display_data",
          "data": {
            "text/html": [
              "<span style=\"color:#4527A0\"><h1 style=\"font-size:18px\">Trial summary</h1></span>"
            ],
            "text/plain": [
              "<IPython.core.display.HTML object>"
            ]
          },
          "metadata": {
            "tags": []
          }
        },
        {
          "output_type": "display_data",
          "data": {
            "text/html": [
              "<span style=\"color:cyan\"> |-Trial ID: e69130c108c3b2c638ab7e715e829d8e</span>"
            ],
            "text/plain": [
              "<IPython.core.display.HTML object>"
            ]
          },
          "metadata": {
            "tags": []
          }
        },
        {
          "output_type": "display_data",
          "data": {
            "text/html": [
              "<span style=\"color:cyan\"> |-Score: 0.8819166421890259</span>"
            ],
            "text/plain": [
              "<IPython.core.display.HTML object>"
            ]
          },
          "metadata": {
            "tags": []
          }
        },
        {
          "output_type": "display_data",
          "data": {
            "text/html": [
              "<span style=\"color:cyan\"> |-Best step: 0</span>"
            ],
            "text/plain": [
              "<IPython.core.display.HTML object>"
            ]
          },
          "metadata": {
            "tags": []
          }
        },
        {
          "output_type": "display_data",
          "data": {
            "text/html": [
              "<span style=\"color:#7E57C2\"><h2 style=\"font-size:16px\">Hyperparameters:</h2></span>"
            ],
            "text/plain": [
              "<IPython.core.display.HTML object>"
            ]
          },
          "metadata": {
            "tags": []
          }
        },
        {
          "output_type": "display_data",
          "data": {
            "text/html": [
              "<span style=\"color:cyan\"> |-dense_unit: 48</span>"
            ],
            "text/plain": [
              "<IPython.core.display.HTML object>"
            ]
          },
          "metadata": {
            "tags": []
          }
        },
        {
          "output_type": "display_data",
          "data": {
            "text/html": [
              "<span style=\"color:blue\"> |-filter_1: 64</span>"
            ],
            "text/plain": [
              "<IPython.core.display.HTML object>"
            ]
          },
          "metadata": {
            "tags": []
          }
        },
        {
          "output_type": "display_data",
          "data": {
            "text/html": [
              "<span style=\"color:cyan\"> |-filter_2: 112</span>"
            ],
            "text/plain": [
              "<IPython.core.display.HTML object>"
            ]
          },
          "metadata": {
            "tags": []
          }
        },
        {
          "output_type": "display_data",
          "data": {
            "text/html": [
              "<span style=\"color:blue\"> |-kernel_1: 3</span>"
            ],
            "text/plain": [
              "<IPython.core.display.HTML object>"
            ]
          },
          "metadata": {
            "tags": []
          }
        },
        {
          "output_type": "display_data",
          "data": {
            "text/html": [
              "<span style=\"color:cyan\"> |-kernel_2: 5</span>"
            ],
            "text/plain": [
              "<IPython.core.display.HTML object>"
            ]
          },
          "metadata": {
            "tags": []
          }
        },
        {
          "output_type": "display_data",
          "data": {
            "text/html": [
              "<span style=\"color:blue\"> |-learning_rate: 0.001</span>"
            ],
            "text/plain": [
              "<IPython.core.display.HTML object>"
            ]
          },
          "metadata": {
            "tags": []
          }
        },
        {
          "output_type": "display_data",
          "data": {
            "text/html": [
              "<span style=\"color:#4527A0\"><h1 style=\"font-size:18px\">Trial summary</h1></span>"
            ],
            "text/plain": [
              "<IPython.core.display.HTML object>"
            ]
          },
          "metadata": {
            "tags": []
          }
        },
        {
          "output_type": "display_data",
          "data": {
            "text/html": [
              "<span style=\"color:cyan\"> |-Trial ID: 1e5594f79ac5b44e2d2df45487c0e9cc</span>"
            ],
            "text/plain": [
              "<IPython.core.display.HTML object>"
            ]
          },
          "metadata": {
            "tags": []
          }
        },
        {
          "output_type": "display_data",
          "data": {
            "text/html": [
              "<span style=\"color:cyan\"> |-Score: 0.8240000009536743</span>"
            ],
            "text/plain": [
              "<IPython.core.display.HTML object>"
            ]
          },
          "metadata": {
            "tags": []
          }
        },
        {
          "output_type": "display_data",
          "data": {
            "text/html": [
              "<span style=\"color:cyan\"> |-Best step: 0</span>"
            ],
            "text/plain": [
              "<IPython.core.display.HTML object>"
            ]
          },
          "metadata": {
            "tags": []
          }
        },
        {
          "output_type": "display_data",
          "data": {
            "text/html": [
              "<span style=\"color:#7E57C2\"><h2 style=\"font-size:16px\">Hyperparameters:</h2></span>"
            ],
            "text/plain": [
              "<IPython.core.display.HTML object>"
            ]
          },
          "metadata": {
            "tags": []
          }
        },
        {
          "output_type": "display_data",
          "data": {
            "text/html": [
              "<span style=\"color:cyan\"> |-dense_unit: 80</span>"
            ],
            "text/plain": [
              "<IPython.core.display.HTML object>"
            ]
          },
          "metadata": {
            "tags": []
          }
        },
        {
          "output_type": "display_data",
          "data": {
            "text/html": [
              "<span style=\"color:blue\"> |-filter_1: 48</span>"
            ],
            "text/plain": [
              "<IPython.core.display.HTML object>"
            ]
          },
          "metadata": {
            "tags": []
          }
        },
        {
          "output_type": "display_data",
          "data": {
            "text/html": [
              "<span style=\"color:cyan\"> |-filter_2: 80</span>"
            ],
            "text/plain": [
              "<IPython.core.display.HTML object>"
            ]
          },
          "metadata": {
            "tags": []
          }
        },
        {
          "output_type": "display_data",
          "data": {
            "text/html": [
              "<span style=\"color:blue\"> |-kernel_1: 3</span>"
            ],
            "text/plain": [
              "<IPython.core.display.HTML object>"
            ]
          },
          "metadata": {
            "tags": []
          }
        },
        {
          "output_type": "display_data",
          "data": {
            "text/html": [
              "<span style=\"color:cyan\"> |-kernel_2: 3</span>"
            ],
            "text/plain": [
              "<IPython.core.display.HTML object>"
            ]
          },
          "metadata": {
            "tags": []
          }
        },
        {
          "output_type": "display_data",
          "data": {
            "text/html": [
              "<span style=\"color:blue\"> |-learning_rate: 0.01</span>"
            ],
            "text/plain": [
              "<IPython.core.display.HTML object>"
            ]
          },
          "metadata": {
            "tags": []
          }
        }
      ]
    },
    {
      "cell_type": "code",
      "metadata": {
        "id": "-dPXH_sqU6Pi",
        "colab_type": "code",
        "colab": {}
      },
      "source": [
        "best_model = k_tuner.get_best_models(num_models=1)"
      ],
      "execution_count": 0,
      "outputs": []
    },
    {
      "cell_type": "code",
      "metadata": {
        "id": "24l4WB4TZt-H",
        "colab_type": "code",
        "outputId": "8017d6e4-b3c2-491f-a2aa-fbc1e8e9ab0f",
        "colab": {
          "base_uri": "https://localhost:8080/",
          "height": 292
        }
      },
      "source": [
        "#classificaiton report\n",
        "from sklearn.metrics import classification_report\n",
        "y_pred = best_model[0].predict_classes(X_valid)\n",
        "y_pred\n",
        "target_names = ['class 0', 'class 1', 'class 2','class 3','class 4']\n",
        "print(classification_report(y_valid, y_pred, target_names=target_names))"
      ],
      "execution_count": 0,
      "outputs": [
        {
          "output_type": "stream",
          "text": [
            "WARNING:tensorflow:From <ipython-input-30-5ba54d45a399>:2: Sequential.predict_classes (from tensorflow.python.keras.engine.sequential) is deprecated and will be removed after 2021-01-01.\n",
            "Instructions for updating:\n",
            "Please use instead:* `np.argmax(model.predict(x), axis=-1)`,   if your model does multi-class classification   (e.g. if it uses a `softmax` last-layer activation).* `(model.predict(x) > 0.5).astype(\"int32\")`,   if your model does binary classification   (e.g. if it uses a `sigmoid` last-layer activation).\n",
            "              precision    recall  f1-score   support\n",
            "\n",
            "     class 0       0.95      0.96      0.95      2379\n",
            "     class 1       0.87      0.89      0.88      2424\n",
            "     class 2       0.85      0.85      0.85      2364\n",
            "     class 3       0.87      0.84      0.86      2367\n",
            "     class 4       0.92      0.94      0.93      2466\n",
            "\n",
            "    accuracy                           0.89     12000\n",
            "   macro avg       0.89      0.89      0.89     12000\n",
            "weighted avg       0.89      0.89      0.89     12000\n",
            "\n"
          ],
          "name": "stdout"
        }
      ]
    },
    {
      "cell_type": "code",
      "metadata": {
        "id": "R9ewkv3JMnWz",
        "colab_type": "code",
        "outputId": "069433ae-9285-4433-d744-5113b38e0ec8",
        "colab": {
          "base_uri": "https://localhost:8080/",
          "height": 102
        }
      },
      "source": [
        "from sklearn.metrics import confusion_matrix\n",
        "confusion_matrix(y_valid, y_pred)"
      ],
      "execution_count": 0,
      "outputs": [
        {
          "output_type": "execute_result",
          "data": {
            "text/plain": [
              "array([[2277,   84,   16,    0,    2],\n",
              "       [ 104, 2148,  127,   39,    6],\n",
              "       [  13,  173, 2004,  140,   34],\n",
              "       [   0,   44,  172, 1995,  156],\n",
              "       [   4,   10,   31,  114, 2307]])"
            ]
          },
          "metadata": {
            "tags": []
          },
          "execution_count": 31
        }
      ]
    },
    {
      "cell_type": "code",
      "metadata": {
        "id": "fsdedE2CLyJg",
        "colab_type": "code",
        "outputId": "984998cf-d75e-4da1-c92f-2132dc18537e",
        "colab": {
          "base_uri": "https://localhost:8080/",
          "height": 34
        }
      },
      "source": [
        "start = timeit.default_timer()\n",
        "y_pred = best_model[0].predict_classes(X_valid)\n",
        "stop = timeit.default_timer()\n",
        "t_basic_cnn_tuner=stop - start\n",
        "print('Time: ', t_basic_cnn_tuner) "
      ],
      "execution_count": 0,
      "outputs": [
        {
          "output_type": "stream",
          "text": [
            "Time:  0.3175025640000513\n"
          ],
          "name": "stdout"
        }
      ]
    },
    {
      "cell_type": "code",
      "metadata": {
        "id": "yM77qam77XKQ",
        "colab_type": "code",
        "colab": {}
      },
      "source": [
        "y_test_f=best_model[0].predict_classes(X_test_f)\n",
        "y_test_f_df=pd.DataFrame(y_test_f, columns=['Label'])"
      ],
      "execution_count": 0,
      "outputs": []
    },
    {
      "cell_type": "code",
      "metadata": {
        "id": "nAbYXEzO-Cry",
        "colab_type": "code",
        "colab": {}
      },
      "source": [
        "frames = [X_test_d['Id'],y_test_f_df]\n",
        "output = pd.concat(frames,axis=1)"
      ],
      "execution_count": 0,
      "outputs": []
    },
    {
      "cell_type": "code",
      "metadata": {
        "id": "5-OVoxjn7j0r",
        "colab_type": "code",
        "colab": {}
      },
      "source": [
        "# from google.colab import files\n",
        "# output.to_csv ('output.csv',index = False, header=True)\n",
        "# files.download('output.csv')"
      ],
      "execution_count": 0,
      "outputs": []
    },
    {
      "cell_type": "markdown",
      "metadata": {
        "id": "T-2h2pmWN63g",
        "colab_type": "text"
      },
      "source": [
        "**Data Augmentation**"
      ]
    },
    {
      "cell_type": "code",
      "metadata": {
        "id": "Wn_ZDiEHN--y",
        "colab_type": "code",
        "colab": {}
      },
      "source": [
        "from keras.preprocessing.image import ImageDataGenerator\n",
        "datagen = ImageDataGenerator(\n",
        "    featurewise_center=False,  \n",
        "    samplewise_center=False, \n",
        "    featurewise_std_normalization=False,\n",
        "    samplewise_std_normalization=False,\n",
        "    zca_whitening=False,\n",
        "    rotation_range=45,\n",
        "    width_shift_range=0.2,\n",
        "    height_shift_range=0.2,\n",
        "    horizontal_flip=True,  \n",
        "    vertical_flip=False)\n",
        "\n",
        "datagen.fit(X_train)"
      ],
      "execution_count": 0,
      "outputs": []
    },
    {
      "cell_type": "code",
      "metadata": {
        "id": "uqETkv4VXE2t",
        "colab_type": "code",
        "outputId": "6385a565-8a11-481b-ed42-80782597ed21",
        "colab": {
          "base_uri": "https://localhost:8080/",
          "height": 271
        }
      },
      "source": [
        "#plotting augmented images\n",
        "for X_batch, y_batch in datagen.flow(X_train, y_train, batch_size=9):\n",
        "\t# create a grid of 3x3 images\n",
        "\tfor i in range(0, 9):\n",
        "\t\tplt.subplot(330 + 1 + i)\n",
        "\t\tplt.imshow(X_batch[i].reshape(28, 28), cmap=plt.get_cmap('gray'))\n",
        "\t# show the plot\n",
        "\tplt.show()\n",
        "\tbreak"
      ],
      "execution_count": 0,
      "outputs": [
        {
          "output_type": "display_data",
          "data": {
            "image/png": "[encoded data removed]",
            "text/plain": [
              "<Figure size 432x288 with 9 Axes>"
            ]
          },
          "metadata": {
            "tags": [],
            "needs_background": "light"
          }
        }
      ]
    },
    {
      "cell_type": "code",
      "metadata": {
        "id": "X2tRMeT4WI4G",
        "colab_type": "code",
        "colab": {}
      },
      "source": [
        "aug_model = keras.Sequential()\n",
        "aug_model.add(keras.layers.Conv2D(filters=32, kernel_size=3,\n",
        "                                  activation='relu', input_shape=im_shape))\n",
        "aug_model.add(keras.layers.MaxPool2D((2, 2)))\n",
        "aug_model.add(keras.layers.Dropout(0.15))\n",
        "aug_model.add(keras.layers.Conv2D(filters=64,\n",
        "                                  kernel_size=3,\n",
        "                                  activation='relu'))\n",
        "aug_model.add(keras.layers.MaxPool2D((2, 2)))\n",
        "aug_model.add(keras.layers.Dropout(0.15))\n",
        "aug_model.add(keras.layers.Flatten())\n",
        "aug_model.add(keras.layers.Dense(units=128,activation='relu'))\n",
        "aug_model.add(keras.layers.Dense(5, activation='softmax'))\n",
        "aug_model.compile(optimizer=keras.optimizers.Adam(learning_rate=.001),\n",
        "                loss='sparse_categorical_crossentropy',\n",
        "                metrics=['accuracy'])\n"
      ],
      "execution_count": 0,
      "outputs": []
    },
    {
      "cell_type": "code",
      "metadata": {
        "id": "vT-Tv671SHWN",
        "colab_type": "code",
        "outputId": "61d14e42-1767-4cc1-cb76-e0bbc5ffeb63",
        "colab": {
          "base_uri": "https://localhost:8080/",
          "height": 700
        }
      },
      "source": [
        "augmented_model_details = aug_model.fit_generator(datagen.flow(X_train, y_train, batch_size = 32),\n",
        "                    steps_per_epoch = len(X_train) / 32,\n",
        "                    epochs = 500,\n",
        "                    validation_data= (X_valid, y_valid),\n",
        "                    callbacks=[monitor],\n",
        "                    verbose=1)"
      ],
      "execution_count": 0,
      "outputs": [
        {
          "output_type": "stream",
          "text": [
            "WARNING:tensorflow:From <ipython-input-39-992e869d2ef3>:6: Model.fit_generator (from tensorflow.python.keras.engine.training) is deprecated and will be removed in a future version.\n",
            "Instructions for updating:\n",
            "Please use Model.fit, which supports generators.\n",
            "Epoch 1/500\n",
            "1500/1500 [==============================] - 15s 10ms/step - loss: 0.9897 - accuracy: 0.5615 - val_loss: 0.7376 - val_accuracy: 0.6973\n",
            "Epoch 2/500\n",
            "1500/1500 [==============================] - 15s 10ms/step - loss: 0.7946 - accuracy: 0.6609 - val_loss: 0.7428 - val_accuracy: 0.6854\n",
            "Epoch 3/500\n",
            "1500/1500 [==============================] - 15s 10ms/step - loss: 0.7262 - accuracy: 0.6960 - val_loss: 0.5622 - val_accuracy: 0.7778\n",
            "Epoch 4/500\n",
            "1500/1500 [==============================] - 15s 10ms/step - loss: 0.6902 - accuracy: 0.7139 - val_loss: 0.5733 - val_accuracy: 0.7684\n",
            "Epoch 5/500\n",
            "1500/1500 [==============================] - 15s 10ms/step - loss: 0.6577 - accuracy: 0.7272 - val_loss: 0.5317 - val_accuracy: 0.7872\n",
            "Epoch 6/500\n",
            "1500/1500 [==============================] - 15s 10ms/step - loss: 0.6383 - accuracy: 0.7405 - val_loss: 0.5465 - val_accuracy: 0.7824\n",
            "Epoch 7/500\n",
            "1500/1500 [==============================] - 15s 10ms/step - loss: 0.6255 - accuracy: 0.7446 - val_loss: 0.5270 - val_accuracy: 0.7900\n",
            "Epoch 8/500\n",
            "1500/1500 [==============================] - 15s 10ms/step - loss: 0.6094 - accuracy: 0.7506 - val_loss: 0.5846 - val_accuracy: 0.7606\n",
            "Epoch 9/500\n",
            "1500/1500 [==============================] - 15s 10ms/step - loss: 0.6003 - accuracy: 0.7573 - val_loss: 0.5014 - val_accuracy: 0.7882\n",
            "Epoch 10/500\n",
            "1500/1500 [==============================] - 15s 10ms/step - loss: 0.5917 - accuracy: 0.7593 - val_loss: 0.6266 - val_accuracy: 0.7480\n",
            "Epoch 11/500\n",
            "1500/1500 [==============================] - 15s 10ms/step - loss: 0.5835 - accuracy: 0.7647 - val_loss: 0.4885 - val_accuracy: 0.8009\n",
            "Epoch 12/500\n",
            "1500/1500 [==============================] - 15s 10ms/step - loss: 0.5718 - accuracy: 0.7659 - val_loss: 0.4693 - val_accuracy: 0.8128\n",
            "Epoch 13/500\n",
            "1500/1500 [==============================] - 15s 10ms/step - loss: 0.5679 - accuracy: 0.7661 - val_loss: 0.4965 - val_accuracy: 0.7981\n",
            "Epoch 14/500\n",
            "1500/1500 [==============================] - 15s 10ms/step - loss: 0.5600 - accuracy: 0.7721 - val_loss: 0.4969 - val_accuracy: 0.8034\n",
            "Epoch 15/500\n",
            "1500/1500 [==============================] - 15s 10ms/step - loss: 0.5565 - accuracy: 0.7754 - val_loss: 0.4743 - val_accuracy: 0.8120\n",
            "Epoch 16/500\n",
            "1500/1500 [==============================] - 15s 10ms/step - loss: 0.5490 - accuracy: 0.7764 - val_loss: 0.4829 - val_accuracy: 0.8085\n",
            "Epoch 17/500\n",
            "1498/1500 [============================>.] - ETA: 0s - loss: 0.5451 - accuracy: 0.7791Restoring model weights from the end of the best epoch.\n",
            "1500/1500 [==============================] - 15s 10ms/step - loss: 0.5454 - accuracy: 0.7790 - val_loss: 0.4752 - val_accuracy: 0.8052\n",
            "Epoch 00017: early stopping\n"
          ],
          "name": "stdout"
        }
      ]
    },
    {
      "cell_type": "code",
      "metadata": {
        "id": "9pNm2Bt8CmUl",
        "colab_type": "code",
        "outputId": "3405776f-ef6f-4bc5-9d32-e8bae0ffa513",
        "colab": {
          "base_uri": "https://localhost:8080/",
          "height": 551
        }
      },
      "source": [
        "\n",
        "# Graph plotting\n",
        "accuracy = augmented_model_details.history['accuracy']\n",
        "val_accuracy = augmented_model_details.history['val_accuracy']\n",
        "loss = augmented_model_details.history['loss']\n",
        "val_loss = augmented_model_details.history['val_loss']\n",
        "epochs = range(len(accuracy))\n",
        "\n",
        "plt.plot(epochs, accuracy, 'g', label='Training accuracy')\n",
        "plt.plot(epochs, val_accuracy, 'b', label='Validation accuracy')\n",
        "plt.title('Training and validation accuracy')\n",
        "plt.legend()\n",
        "plt.figure()\n",
        "\n",
        "plt.plot(epochs, loss, 'g', label='Training loss')\n",
        "plt.plot(epochs, val_loss, 'b', label='Validation loss')\n",
        "plt.title('Training and validation loss')\n",
        "plt.legend()\n",
        "plt.show()"
      ],
      "execution_count": 0,
      "outputs": [
        {
          "output_type": "display_data",
          "data": {
            "image/png": "[encoded data removed]",
            "text/plain": [
              "<Figure size 432x288 with 1 Axes>"
            ]
          },
          "metadata": {
            "tags": [],
            "needs_background": "light"
          }
        },
        {
          "output_type": "display_data",
          "data": {
            "image/png": "[encoded data removed]",
            "text/plain": [
              "<Figure size 432x288 with 1 Axes>"
            ]
          },
          "metadata": {
            "tags": [],
            "needs_background": "light"
          }
        }
      ]
    },
    {
      "cell_type": "code",
      "metadata": {
        "colab_type": "code",
        "id": "_kzNsP_3_QL2",
        "outputId": "fce95cfe-cef3-4476-f3ac-a74bf08846cd",
        "colab": {
          "base_uri": "https://localhost:8080/",
          "height": 221
        }
      },
      "source": [
        "#classificaiton report\n",
        "from sklearn.metrics import classification_report\n",
        "y_pred = aug_model.predict_classes(X_valid)\n",
        "target_names = ['class 0', 'class 1', 'class 2','class 3','class 4']\n",
        "print(classification_report(y_valid,y_pred, target_names=target_names))"
      ],
      "execution_count": 0,
      "outputs": [
        {
          "output_type": "stream",
          "text": [
            "              precision    recall  f1-score   support\n",
            "\n",
            "     class 0       0.92      0.91      0.92      2379\n",
            "     class 1       0.77      0.84      0.80      2424\n",
            "     class 2       0.80      0.65      0.72      2364\n",
            "     class 3       0.76      0.72      0.74      2367\n",
            "     class 4       0.81      0.94      0.87      2466\n",
            "\n",
            "    accuracy                           0.81     12000\n",
            "   macro avg       0.81      0.81      0.81     12000\n",
            "weighted avg       0.81      0.81      0.81     12000\n",
            "\n"
          ],
          "name": "stdout"
        }
      ]
    },
    {
      "cell_type": "code",
      "metadata": {
        "colab_type": "code",
        "id": "AWwKjz7G_QMD",
        "outputId": "50f58433-437e-4302-832e-7064d0bea7e9",
        "colab": {
          "base_uri": "https://localhost:8080/",
          "height": 102
        }
      },
      "source": [
        "from sklearn.metrics import confusion_matrix\n",
        "confusion_matrix(y_valid, y_pred)"
      ],
      "execution_count": 0,
      "outputs": [
        {
          "output_type": "execute_result",
          "data": {
            "text/plain": [
              "array([[2172,  149,   50,    0,    8],\n",
              "       [ 154, 2027,  145,   76,   22],\n",
              "       [  35,  355, 1532,  361,   81],\n",
              "       [   0,   82,  157, 1703,  425],\n",
              "       [   5,    5,   32,  104, 2320]])"
            ]
          },
          "metadata": {
            "tags": []
          },
          "execution_count": 42
        }
      ]
    },
    {
      "cell_type": "code",
      "metadata": {
        "colab_type": "code",
        "id": "qzpD0xYy_QMJ",
        "outputId": "62e73449-3840-4b07-e572-bfdfc20a55c8",
        "colab": {
          "base_uri": "https://localhost:8080/",
          "height": 34
        }
      },
      "source": [
        "start = timeit.default_timer()\n",
        "y_pred = aug_model.predict_classes(X_valid)\n",
        "stop = timeit.default_timer()\n",
        "t_basic_cnn_tuner=stop - start\n",
        "print('Time: ', t_basic_cnn_tuner) "
      ],
      "execution_count": 0,
      "outputs": [
        {
          "output_type": "stream",
          "text": [
            "Time:  0.31762253400006557\n"
          ],
          "name": "stdout"
        }
      ]
    },
    {
      "cell_type": "code",
      "metadata": {
        "id": "J_HFYZKZVMjF",
        "colab_type": "code",
        "colab": {}
      },
      "source": [
        "y_test_f=aug_model.predict_classes(X_test_f)\n",
        "y_test_f_df=pd.DataFrame(y_test_f, columns=['Label'])\n",
        "frames = [X_test_d['Id'],y_test_f_df]\n",
        "output = pd.concat(frames,axis=1)"
      ],
      "execution_count": 0,
      "outputs": []
    },
    {
      "cell_type": "code",
      "metadata": {
        "colab_type": "code",
        "id": "vw5PHldc_QMP",
        "colab": {}
      },
      "source": [
        "frames = [X_test_d['Id'],y_test_f_df]\n",
        "output = pd.concat(frames,axis=1)"
      ],
      "execution_count": 0,
      "outputs": []
    },
    {
      "cell_type": "code",
      "metadata": {
        "id": "XlmYhpMitNrW",
        "colab_type": "code",
        "colab": {}
      },
      "source": [
        "# from google.colab import files\n",
        "# output.to_csv ('output.csv',index = False, header=True)\n",
        "# files.download('output.csv')"
      ],
      "execution_count": 0,
      "outputs": []
    },
    {
      "cell_type": "markdown",
      "metadata": {
        "id": "NfmON08QpmaN",
        "colab_type": "text"
      },
      "source": [
        "**Autoencoder**"
      ]
    },
    {
      "cell_type": "code",
      "metadata": {
        "id": "oZLTQ0rtvhZa",
        "colab_type": "code",
        "colab": {}
      },
      "source": [
        "from sklearn.model_selection import train_test_split\n",
        "from keras.layers.normalization import BatchNormalization\n",
        "from keras.layers import Input,Dense,Flatten,Dropout,merge,Reshape,Conv2D,MaxPooling2D,UpSampling2D,Conv2DTranspose\n",
        "X_train, X_valid, y_train, y_valid = train_test_split(X_train_sd.reshape(-1, 28,28, 1),\n",
        "                                                      X_train_sd.reshape(-1, 28,28, 1),test_size=0.2,random_state=42)\n",
        "batch_size = 64\n",
        "epoch_size = 50\n",
        "chan = 1\n",
        "x_dim, y_dim = 28, 28\n",
        "input_image = Input(shape = (x_dim, y_dim, chan))\n",
        "num_classes = 5"
      ],
      "execution_count": 0,
      "outputs": []
    },
    {
      "cell_type": "code",
      "metadata": {
        "id": "q2AmaiF-HWtr",
        "colab_type": "code",
        "colab": {}
      },
      "source": [
        "from keras.models import Model,Sequential\n",
        "from keras.layers import Input\n",
        "from keras.optimizers import Adadelta, RMSprop,SGD,Adam\n",
        "def encoder(input_image):\n",
        "    conv_lyr_1 = Conv2D(32, (3, 3), activation='relu', padding='same')(input_image) \n",
        "    conv_lyr_1 = BatchNormalization()(conv_lyr_1)\n",
        "    conv_lyr_1 = Conv2D(32, (3, 3), activation='relu', padding='same')(conv_lyr_1)\n",
        "    conv_lyr_1 = BatchNormalization()(conv_lyr_1)\n",
        "    pool_lyr_1 = MaxPooling2D(pool_size=(2, 2))(conv_lyr_1) \n",
        "    conv_lyr_2 = Conv2D(64, (3, 3), activation='relu', padding='same')(pool_lyr_1) \n",
        "    conv_lyr_2 = BatchNormalization()(conv_lyr_2)\n",
        "    conv_lyr_2 = Conv2D(64, (3, 3), activation='relu', padding='same')(conv_lyr_2)\n",
        "    conv_lyr_2 = BatchNormalization()(conv_lyr_2)\n",
        "    pool_lyr_1  = MaxPooling2D(pool_size=(2, 2))(conv_lyr_2) \n",
        "    conv_lyr_3  = Conv2D(128, (3, 3), activation='relu', padding='same')(pool_lyr_1 ) \n",
        "    conv_lyr_3  = BatchNormalization()(conv_lyr_3 )\n",
        "    conv_lyr_3  = Conv2D(128, (3, 3), activation='relu', padding='same')(conv_lyr_3 )\n",
        "    conv_lyr_3  = BatchNormalization()(conv_lyr_3 )\n",
        "    conv_lyr_4 = Conv2D(256, (3, 3), activation='relu', padding='same')(conv_lyr_3 ) \n",
        "    conv_lyr_4 = BatchNormalization()(conv_lyr_4)\n",
        "    conv_lyr_4 = Conv2D(256, (3, 3), activation='relu', padding='same')(conv_lyr_4)\n",
        "    conv_lyr_4 = BatchNormalization()(conv_lyr_4)\n",
        "    return conv_lyr_4\n",
        "\n",
        "def decoder(conv_lyr_4):    \n",
        "    conv_lyr_5 = Conv2D(128, (3, 3), activation='relu', padding='same')(conv_lyr_4) \n",
        "    conv_lyr_5 = BatchNormalization()(conv_lyr_5)\n",
        "    conv_lyr_5 = Conv2D(128, (3, 3), activation='relu', padding='same')(conv_lyr_5)\n",
        "    conv_lyr_5 = BatchNormalization()(conv_lyr_5)\n",
        "    conv_lyr_6 = Conv2D(64, (3, 3), activation='relu', padding='same')(conv_lyr_5) \n",
        "    conv_lyr_6 = BatchNormalization()(conv_lyr_6)\n",
        "    conv_lyr_6 = Conv2D(64, (3, 3), activation='relu', padding='same')(conv_lyr_6)\n",
        "    conv_lyr_6 = BatchNormalization()(conv_lyr_6)\n",
        "    up_scale_1 = UpSampling2D((2,2))(conv_lyr_6) \n",
        "    conv_lyr_7 = Conv2D(32, (3, 3), activation='relu', padding='same')(up_scale_1) \n",
        "    conv_lyr_7 = BatchNormalization()(conv_lyr_7)\n",
        "    conv_lyr_7 = Conv2D(32, (3, 3), activation='relu', padding='same')(conv_lyr_7)\n",
        "    conv_lyr_7 = BatchNormalization()(conv_lyr_7)\n",
        "    up_scale_2 = UpSampling2D((2,2))(conv_lyr_7) \n",
        "    decoded = Conv2D(1, (3, 3), activation='sigmoid', padding='same')(up_scale_2) \n",
        "    return decoded"
      ],
      "execution_count": 0,
      "outputs": []
    },
    {
      "cell_type": "code",
      "metadata": {
        "id": "L-_hN8m7jfeQ",
        "colab_type": "code",
        "colab": {}
      },
      "source": [
        "autoencoder = Model(input_image, decoder(encoder(input_image)))\n",
        "autoencoder.compile(loss='mean_squared_error', optimizer = RMSprop())\n"
      ],
      "execution_count": 0,
      "outputs": []
    },
    {
      "cell_type": "code",
      "metadata": {
        "id": "5pYJWGhRVSKC",
        "colab_type": "code",
        "outputId": "c035b307-2291-439b-e53f-abe7a43686bf",
        "colab": {
          "base_uri": "https://localhost:8080/",
          "height": 1000
        }
      },
      "source": [
        "autoencoder.summary()"
      ],
      "execution_count": 0,
      "outputs": [
        {
          "output_type": "stream",
          "text": [
            "Model: \"model_1\"\n",
            "_________________________________________________________________\n",
            "Layer (type)                 Output Shape              Param #   \n",
            "=================================================================\n",
            "input_1 (InputLayer)         (None, 28, 28, 1)         0         \n",
            "_________________________________________________________________\n",
            "conv2d_1 (Conv2D)            (None, 28, 28, 32)        320       \n",
            "_________________________________________________________________\n",
            "batch_normalization_1 (Batch (None, 28, 28, 32)        128       \n",
            "_________________________________________________________________\n",
            "conv2d_2 (Conv2D)            (None, 28, 28, 32)        9248      \n",
            "_________________________________________________________________\n",
            "batch_normalization_2 (Batch (None, 28, 28, 32)        128       \n",
            "_________________________________________________________________\n",
            "max_pooling2d_1 (MaxPooling2 (None, 14, 14, 32)        0         \n",
            "_________________________________________________________________\n",
            "conv2d_3 (Conv2D)            (None, 14, 14, 64)        18496     \n",
            "_________________________________________________________________\n",
            "batch_normalization_3 (Batch (None, 14, 14, 64)        256       \n",
            "_________________________________________________________________\n",
            "conv2d_4 (Conv2D)            (None, 14, 14, 64)        36928     \n",
            "_________________________________________________________________\n",
            "batch_normalization_4 (Batch (None, 14, 14, 64)        256       \n",
            "_________________________________________________________________\n",
            "max_pooling2d_2 (MaxPooling2 (None, 7, 7, 64)          0         \n",
            "_________________________________________________________________\n",
            "conv2d_5 (Conv2D)            (None, 7, 7, 128)         73856     \n",
            "_________________________________________________________________\n",
            "batch_normalization_5 (Batch (None, 7, 7, 128)         512       \n",
            "_________________________________________________________________\n",
            "conv2d_6 (Conv2D)            (None, 7, 7, 128)         147584    \n",
            "_________________________________________________________________\n",
            "batch_normalization_6 (Batch (None, 7, 7, 128)         512       \n",
            "_________________________________________________________________\n",
            "conv2d_7 (Conv2D)            (None, 7, 7, 256)         295168    \n",
            "_________________________________________________________________\n",
            "batch_normalization_7 (Batch (None, 7, 7, 256)         1024      \n",
            "_________________________________________________________________\n",
            "conv2d_8 (Conv2D)            (None, 7, 7, 256)         590080    \n",
            "_________________________________________________________________\n",
            "batch_normalization_8 (Batch (None, 7, 7, 256)         1024      \n",
            "_________________________________________________________________\n",
            "conv2d_9 (Conv2D)            (None, 7, 7, 128)         295040    \n",
            "_________________________________________________________________\n",
            "batch_normalization_9 (Batch (None, 7, 7, 128)         512       \n",
            "_________________________________________________________________\n",
            "conv2d_10 (Conv2D)           (None, 7, 7, 128)         147584    \n",
            "_________________________________________________________________\n",
            "batch_normalization_10 (Batc (None, 7, 7, 128)         512       \n",
            "_________________________________________________________________\n",
            "conv2d_11 (Conv2D)           (None, 7, 7, 64)          73792     \n",
            "_________________________________________________________________\n",
            "batch_normalization_11 (Batc (None, 7, 7, 64)          256       \n",
            "_________________________________________________________________\n",
            "conv2d_12 (Conv2D)           (None, 7, 7, 64)          36928     \n",
            "_________________________________________________________________\n",
            "batch_normalization_12 (Batc (None, 7, 7, 64)          256       \n",
            "_________________________________________________________________\n",
            "up_sampling2d_1 (UpSampling2 (None, 14, 14, 64)        0         \n",
            "_________________________________________________________________\n",
            "conv2d_13 (Conv2D)           (None, 14, 14, 32)        18464     \n",
            "_________________________________________________________________\n",
            "batch_normalization_13 (Batc (None, 14, 14, 32)        128       \n",
            "_________________________________________________________________\n",
            "conv2d_14 (Conv2D)           (None, 14, 14, 32)        9248      \n",
            "_________________________________________________________________\n",
            "batch_normalization_14 (Batc (None, 14, 14, 32)        128       \n",
            "_________________________________________________________________\n",
            "up_sampling2d_2 (UpSampling2 (None, 28, 28, 32)        0         \n",
            "_________________________________________________________________\n",
            "conv2d_15 (Conv2D)           (None, 28, 28, 1)         289       \n",
            "=================================================================\n",
            "Total params: 1,758,657\n",
            "Trainable params: 1,755,841\n",
            "Non-trainable params: 2,816\n",
            "_________________________________________________________________\n"
          ],
          "name": "stdout"
        }
      ]
    },
    {
      "cell_type": "code",
      "metadata": {
        "id": "T7MMfW-kZc1C",
        "colab_type": "code",
        "outputId": "4100ef4f-13f4-4c89-b51d-d1863b418a97",
        "colab": {
          "base_uri": "https://localhost:8080/",
          "height": 428
        }
      },
      "source": [
        "autoencoder_train = autoencoder.fit(X_train, y_train, \n",
        "                                    batch_size=batch_size,\n",
        "                                    epochs=epoch_size,\n",
        "                                    verbose=1,\n",
        "                                    callbacks=[monitor],\n",
        "                        validation_data=(X_valid, y_valid))\n"
      ],
      "execution_count": 0,
      "outputs": [
        {
          "output_type": "stream",
          "text": [
            "Train on 48000 samples, validate on 12000 samples\n",
            "Epoch 1/50\n",
            "48000/48000 [==============================] - 36s 751us/step - loss: 0.0195 - val_loss: 0.0122\n",
            "Epoch 2/50\n",
            "48000/48000 [==============================] - 33s 698us/step - loss: 0.0092 - val_loss: 0.0094\n",
            "Epoch 3/50\n",
            "48000/48000 [==============================] - 33s 695us/step - loss: 0.0070 - val_loss: 0.0066\n",
            "Epoch 4/50\n",
            "48000/48000 [==============================] - 33s 694us/step - loss: 0.0057 - val_loss: 0.0082\n",
            "Epoch 5/50\n",
            "48000/48000 [==============================] - 33s 695us/step - loss: 0.0049 - val_loss: 0.0042\n",
            "Epoch 6/50\n",
            "48000/48000 [==============================] - 33s 694us/step - loss: 0.0045 - val_loss: 0.0077\n",
            "Epoch 7/50\n",
            "48000/48000 [==============================] - 33s 694us/step - loss: 0.0041 - val_loss: 0.0045\n",
            "Epoch 8/50\n",
            "48000/48000 [==============================] - 33s 696us/step - loss: 0.0038 - val_loss: 0.0037\n",
            "Epoch 9/50\n",
            "48000/48000 [==============================] - 33s 695us/step - loss: 0.0035 - val_loss: 0.0038\n",
            "Epoch 10/50\n",
            "48000/48000 [==============================] - 33s 694us/step - loss: 0.0032 - val_loss: 0.0034\n",
            "Restoring model weights from the end of the best epoch.\n",
            "Epoch 00010: early stopping\n"
          ],
          "name": "stdout"
        }
      ]
    },
    {
      "cell_type": "code",
      "metadata": {
        "id": "IPoPow2Yj2sz",
        "colab_type": "code",
        "outputId": "1406067e-cd76-4481-8f92-3b21136b9c41",
        "colab": {
          "base_uri": "https://localhost:8080/",
          "height": 284
        }
      },
      "source": [
        "loss = autoencoder_train.history['loss']\n",
        "val_loss = autoencoder_train.history['val_loss']\n",
        "plt.figure()\n",
        "plt.plot(loss, 'g', label='Training loss')\n",
        "plt.plot(val_loss, 'b', label='Validation loss')\n",
        "plt.title('Training and validation loss')\n",
        "plt.legend()\n",
        "plt.show()"
      ],
      "execution_count": 0,
      "outputs": [
        {
          "output_type": "display_data",
          "data": {
            "image/png": "[encoded data removed]",
            "text/plain": [
              "<Figure size 432x288 with 1 Axes>"
            ]
          },
          "metadata": {
            "tags": [],
            "needs_background": "light"
          }
        }
      ]
    },
    {
      "cell_type": "code",
      "metadata": {
        "id": "7tTqVZ6HJp-7",
        "colab_type": "code",
        "colab": {}
      },
      "source": [
        "#categorical to one-hot encoding\n",
        "from keras.utils import to_categorical\n",
        "train_Y_one_hot = to_categorical(y_train_np)\n",
        "\n"
      ],
      "execution_count": 0,
      "outputs": []
    },
    {
      "cell_type": "code",
      "metadata": {
        "id": "HhKT7e1aLt7P",
        "colab_type": "code",
        "colab": {}
      },
      "source": [
        "X_train_n,X_valid_n,y_train_n,y_valid_n = train_test_split(X_train_sd.reshape(-1, 28,28, 1),\n",
        "                                              train_Y_one_hot,test_size=0.2,random_state=13)\n"
      ],
      "execution_count": 0,
      "outputs": []
    },
    {
      "cell_type": "code",
      "metadata": {
        "id": "Mg2NF-GmPUvz",
        "colab_type": "code",
        "colab": {}
      },
      "source": [
        "def encoder(input_image):  \n",
        "    conv_lyr_1 = Conv2D(32, (3, 3), activation='relu', padding='same')(input_image)\n",
        "    conv_lyr_1 = BatchNormalization()(conv_lyr_1)\n",
        "    conv_lyr_1 = Conv2D(32, (3, 3), activation='relu', padding='same')(conv_lyr_1)\n",
        "    conv_lyr_1 = BatchNormalization()(conv_lyr_1)\n",
        "    pool_lyr_1 = MaxPooling2D(pool_size=(2, 2))(conv_lyr_1) \n",
        "    conv_lyr_2 = Conv2D(64, (3, 3), activation='relu', padding='same')(pool_lyr_1)\n",
        "    conv_lyr_2 = BatchNormalization()(conv_lyr_2)\n",
        "    conv_lyr_2 = Conv2D(64, (3, 3), activation='relu', padding='same')(conv_lyr_2)\n",
        "    conv_lyr_2 = BatchNormalization()(conv_lyr_2)\n",
        "    pool_lyr_1  = MaxPooling2D(pool_size=(2, 2))(conv_lyr_2)\n",
        "    conv_lyr_3  = Conv2D(128, (3, 3), activation='relu', padding='same')(pool_lyr_1 )\n",
        "    conv_lyr_3  = BatchNormalization()(conv_lyr_3 )\n",
        "    conv_lyr_3  = Conv2D(128, (3, 3), activation='relu', padding='same')(conv_lyr_3 )\n",
        "    conv_lyr_3  = BatchNormalization()(conv_lyr_3 )\n",
        "    conv_lyr_4 = Conv2D(256, (3, 3), activation='relu', padding='same')(conv_lyr_3 )\n",
        "    conv_lyr_4 = BatchNormalization()(conv_lyr_4)\n",
        "    conv_lyr_4 = Conv2D(256, (3, 3), activation='relu', padding='same')(conv_lyr_4)\n",
        "    conv_lyr_4 = BatchNormalization()(conv_lyr_4)\n",
        "    return conv_lyr_4\n"
      ],
      "execution_count": 0,
      "outputs": []
    },
    {
      "cell_type": "code",
      "metadata": {
        "id": "HWeJWQ5dP2Gk",
        "colab_type": "code",
        "colab": {}
      },
      "source": [
        "def fully_conn_lyr(input_enco):\n",
        "    flatten_1= Flatten()(input_enco)\n",
        "    dense_1 = Dense(128, activation='relu')(flatten_1)\n",
        "    output_lyr = Dense(num_classes, activation='softmax')(dense_1)\n",
        "    return output_lyr"
      ],
      "execution_count": 0,
      "outputs": []
    },
    {
      "cell_type": "code",
      "metadata": {
        "id": "NvjgYMGtTdOZ",
        "colab_type": "code",
        "colab": {}
      },
      "source": [
        "encode = encoder(input_image)\n",
        "final_model = Model(input_image,fully_conn_lyr(encode))\n"
      ],
      "execution_count": 0,
      "outputs": []
    },
    {
      "cell_type": "code",
      "metadata": {
        "id": "x-7idC4QTf45",
        "colab_type": "code",
        "colab": {}
      },
      "source": [
        "for w1,w2 in zip(final_model.layers[:19],autoencoder.layers[0:19]):\n",
        "    w1.set_weights(w2.get_weights())\n"
      ],
      "execution_count": 0,
      "outputs": []
    },
    {
      "cell_type": "code",
      "metadata": {
        "id": "W-f3liiZajW8",
        "colab_type": "code",
        "colab": {}
      },
      "source": [
        "for layer in final_model.layers[0:19]:\n",
        "    layer.trainable = False"
      ],
      "execution_count": 0,
      "outputs": []
    },
    {
      "cell_type": "code",
      "metadata": {
        "id": "xiFtorU3al4p",
        "colab_type": "code",
        "colab": {}
      },
      "source": [
        "final_model.compile(loss=keras.losses.categorical_crossentropy, optimizer=keras.optimizers.Adam(),metrics=['accuracy'])\n"
      ],
      "execution_count": 0,
      "outputs": []
    },
    {
      "cell_type": "code",
      "metadata": {
        "id": "NKjvhvCban1K",
        "colab_type": "code",
        "outputId": "f0fb7b4c-d66f-4143-f151-717a9d974ecc",
        "colab": {
          "base_uri": "https://localhost:8080/",
          "height": 901
        }
      },
      "source": [
        "final_model.summary()"
      ],
      "execution_count": 0,
      "outputs": [
        {
          "output_type": "stream",
          "text": [
            "Model: \"model_2\"\n",
            "_________________________________________________________________\n",
            "Layer (type)                 Output Shape              Param #   \n",
            "=================================================================\n",
            "input_1 (InputLayer)         (None, 28, 28, 1)         0         \n",
            "_________________________________________________________________\n",
            "conv2d_16 (Conv2D)           (None, 28, 28, 32)        320       \n",
            "_________________________________________________________________\n",
            "batch_normalization_15 (Batc (None, 28, 28, 32)        128       \n",
            "_________________________________________________________________\n",
            "conv2d_17 (Conv2D)           (None, 28, 28, 32)        9248      \n",
            "_________________________________________________________________\n",
            "batch_normalization_16 (Batc (None, 28, 28, 32)        128       \n",
            "_________________________________________________________________\n",
            "max_pooling2d_3 (MaxPooling2 (None, 14, 14, 32)        0         \n",
            "_________________________________________________________________\n",
            "conv2d_18 (Conv2D)           (None, 14, 14, 64)        18496     \n",
            "_________________________________________________________________\n",
            "batch_normalization_17 (Batc (None, 14, 14, 64)        256       \n",
            "_________________________________________________________________\n",
            "conv2d_19 (Conv2D)           (None, 14, 14, 64)        36928     \n",
            "_________________________________________________________________\n",
            "batch_normalization_18 (Batc (None, 14, 14, 64)        256       \n",
            "_________________________________________________________________\n",
            "max_pooling2d_4 (MaxPooling2 (None, 7, 7, 64)          0         \n",
            "_________________________________________________________________\n",
            "conv2d_20 (Conv2D)           (None, 7, 7, 128)         73856     \n",
            "_________________________________________________________________\n",
            "batch_normalization_19 (Batc (None, 7, 7, 128)         512       \n",
            "_________________________________________________________________\n",
            "conv2d_21 (Conv2D)           (None, 7, 7, 128)         147584    \n",
            "_________________________________________________________________\n",
            "batch_normalization_20 (Batc (None, 7, 7, 128)         512       \n",
            "_________________________________________________________________\n",
            "conv2d_22 (Conv2D)           (None, 7, 7, 256)         295168    \n",
            "_________________________________________________________________\n",
            "batch_normalization_21 (Batc (None, 7, 7, 256)         1024      \n",
            "_________________________________________________________________\n",
            "conv2d_23 (Conv2D)           (None, 7, 7, 256)         590080    \n",
            "_________________________________________________________________\n",
            "batch_normalization_22 (Batc (None, 7, 7, 256)         1024      \n",
            "_________________________________________________________________\n",
            "flatten_1 (Flatten)          (None, 12544)             0         \n",
            "_________________________________________________________________\n",
            "dense_1 (Dense)              (None, 128)               1605760   \n",
            "_________________________________________________________________\n",
            "dense_2 (Dense)              (None, 5)                 645       \n",
            "=================================================================\n",
            "Total params: 2,781,925\n",
            "Trainable params: 1,606,405\n",
            "Non-trainable params: 1,175,520\n",
            "_________________________________________________________________\n"
          ],
          "name": "stdout"
        }
      ]
    },
    {
      "cell_type": "code",
      "metadata": {
        "id": "Tp0ZICVdarJA",
        "colab_type": "code",
        "outputId": "52d5640f-5ca9-411f-da50-c7ca8cb58dad",
        "colab": {
          "base_uri": "https://localhost:8080/",
          "height": 394
        }
      },
      "source": [
        "classify_train = final_model.fit(X_train_n, y_train_n, batch_size=64,epochs=10,verbose=1,validation_data=(X_valid_n, y_valid_n),callbacks=[monitor])\n"
      ],
      "execution_count": 0,
      "outputs": [
        {
          "output_type": "stream",
          "text": [
            "Train on 48000 samples, validate on 12000 samples\n",
            "Epoch 1/10\n",
            "48000/48000 [==============================] - 10s 201us/step - loss: 0.4882 - accuracy: 0.8080 - val_loss: 0.3821 - val_accuracy: 0.8477\n",
            "Epoch 2/10\n",
            "48000/48000 [==============================] - 9s 194us/step - loss: 0.3481 - accuracy: 0.8586 - val_loss: 0.3722 - val_accuracy: 0.8535\n",
            "Epoch 3/10\n",
            "48000/48000 [==============================] - 9s 194us/step - loss: 0.3022 - accuracy: 0.8789 - val_loss: 0.3766 - val_accuracy: 0.8559\n",
            "Epoch 4/10\n",
            "48000/48000 [==============================] - 9s 194us/step - loss: 0.2721 - accuracy: 0.8896 - val_loss: 0.3676 - val_accuracy: 0.8585\n",
            "Epoch 5/10\n",
            "48000/48000 [==============================] - 9s 195us/step - loss: 0.2536 - accuracy: 0.8975 - val_loss: 0.4254 - val_accuracy: 0.8499\n",
            "Epoch 6/10\n",
            "48000/48000 [==============================] - 9s 194us/step - loss: 0.2334 - accuracy: 0.9073 - val_loss: 0.3700 - val_accuracy: 0.8678\n",
            "Epoch 7/10\n",
            "48000/48000 [==============================] - 9s 195us/step - loss: 0.2171 - accuracy: 0.9127 - val_loss: 0.3860 - val_accuracy: 0.8612\n",
            "Epoch 8/10\n",
            "48000/48000 [==============================] - 9s 196us/step - loss: 0.2032 - accuracy: 0.9188 - val_loss: 0.4086 - val_accuracy: 0.8620\n",
            "Epoch 9/10\n",
            "48000/48000 [==============================] - 9s 194us/step - loss: 0.1892 - accuracy: 0.9245 - val_loss: 0.3984 - val_accuracy: 0.8658\n",
            "Restoring model weights from the end of the best epoch.\n",
            "Epoch 00009: early stopping\n"
          ],
          "name": "stdout"
        }
      ]
    },
    {
      "cell_type": "code",
      "metadata": {
        "id": "pG4AKsEJqW5g",
        "colab_type": "code",
        "colab": {}
      },
      "source": [
        "for layer in final_model.layers[0:19]:\n",
        "    layer.trainable = True"
      ],
      "execution_count": 0,
      "outputs": []
    },
    {
      "cell_type": "code",
      "metadata": {
        "id": "FjXeOsJZqZYA",
        "colab_type": "code",
        "colab": {}
      },
      "source": [
        "final_model.compile(loss=keras.losses.categorical_crossentropy, optimizer=keras.optimizers.Adam(),metrics=['accuracy'])\n"
      ],
      "execution_count": 0,
      "outputs": []
    },
    {
      "cell_type": "code",
      "metadata": {
        "id": "1c7PvTBBqavC",
        "colab_type": "code",
        "outputId": "d4ccfcb6-c798-40b5-e383-273399feccc4",
        "colab": {
          "base_uri": "https://localhost:8080/",
          "height": 360
        }
      },
      "source": [
        "classify_train = final_model.fit(X_train_n, y_train_n, batch_size=64,epochs=25,verbose=1,validation_data=(X_valid_n, y_valid_n),callbacks=[monitor])\n"
      ],
      "execution_count": 0,
      "outputs": [
        {
          "output_type": "stream",
          "text": [
            "Train on 48000 samples, validate on 12000 samples\n",
            "Epoch 1/25\n",
            "48000/48000 [==============================] - 26s 535us/step - loss: 0.3551 - accuracy: 0.8592 - val_loss: 0.4064 - val_accuracy: 0.8477\n",
            "Epoch 2/25\n",
            "48000/48000 [==============================] - 25s 515us/step - loss: 0.2929 - accuracy: 0.8813 - val_loss: 0.4091 - val_accuracy: 0.8437\n",
            "Epoch 3/25\n",
            "48000/48000 [==============================] - 25s 516us/step - loss: 0.2518 - accuracy: 0.8995 - val_loss: 0.4045 - val_accuracy: 0.8528\n",
            "Epoch 4/25\n",
            "48000/48000 [==============================] - 25s 514us/step - loss: 0.2218 - accuracy: 0.9125 - val_loss: 0.4052 - val_accuracy: 0.8528\n",
            "Epoch 5/25\n",
            "48000/48000 [==============================] - 25s 515us/step - loss: 0.1908 - accuracy: 0.9234 - val_loss: 0.4137 - val_accuracy: 0.8579\n",
            "Epoch 6/25\n",
            "48000/48000 [==============================] - 25s 519us/step - loss: 0.1649 - accuracy: 0.9357 - val_loss: 0.4282 - val_accuracy: 0.8607\n",
            "Epoch 7/25\n",
            "48000/48000 [==============================] - 25s 517us/step - loss: 0.1424 - accuracy: 0.9458 - val_loss: 0.4885 - val_accuracy: 0.8522\n",
            "Epoch 8/25\n",
            "48000/48000 [==============================] - 25s 516us/step - loss: 0.1249 - accuracy: 0.9518 - val_loss: 0.4780 - val_accuracy: 0.8581\n",
            "Restoring model weights from the end of the best epoch.\n",
            "Epoch 00008: early stopping\n"
          ],
          "name": "stdout"
        }
      ]
    },
    {
      "cell_type": "code",
      "metadata": {
        "id": "vPYoVnrCql6F",
        "colab_type": "code",
        "outputId": "3a1c55cb-ae72-4644-cfc9-330b4e38a0ee",
        "colab": {
          "base_uri": "https://localhost:8080/",
          "height": 551
        }
      },
      "source": [
        "accuracy = classify_train.history['accuracy']\n",
        "val_accuracy = classify_train.history['val_accuracy']\n",
        "loss = classify_train.history['loss']\n",
        "val_loss = classify_train.history['val_loss']\n",
        "plt.plot( accuracy, 'g', label='Training accuracy')\n",
        "plt.plot(val_accuracy, 'b', label='Validation accuracy')\n",
        "plt.title('Training and validation accuracy')\n",
        "plt.legend()\n",
        "plt.figure()\n",
        "plt.plot(loss, 'g', label='Training loss')\n",
        "plt.plot(val_loss, 'b', label='Validation loss')\n",
        "plt.title('Training and validation loss')\n",
        "plt.legend()\n",
        "plt.show()"
      ],
      "execution_count": 0,
      "outputs": [
        {
          "output_type": "display_data",
          "data": {
            "image/png": "[encoded data removed]",
            "text/plain": [
              "<Figure size 432x288 with 1 Axes>"
            ]
          },
          "metadata": {
            "tags": [],
            "needs_background": "light"
          }
        },
        {
          "output_type": "display_data",
          "data": {
            "image/png": "[encoded data removed]",
            "text/plain": [
              "<Figure size 432x288 with 1 Axes>"
            ]
          },
          "metadata": {
            "tags": [],
            "needs_background": "light"
          }
        }
      ]
    },
    {
      "cell_type": "code",
      "metadata": {
        "colab_type": "code",
        "outputId": "2786c77f-efc9-4f96-81b0-c37924818df8",
        "id": "Bg06tvCesYlN",
        "colab": {
          "base_uri": "https://localhost:8080/",
          "height": 221
        }
      },
      "source": [
        "#classificaiton report\n",
        "from sklearn.metrics import classification_report\n",
        "y_pred = final_model.predict(X_valid_n)\n",
        "y_pred_val = np.argmax(y_pred, axis=-1)\n",
        "target_names = ['class 0', 'class 1', 'class 2','class 3','class 4']\n",
        "print(classification_report(np.argmax(y_valid_n, axis=1), y_pred_val, target_names=target_names))"
      ],
      "execution_count": 0,
      "outputs": [
        {
          "output_type": "stream",
          "text": [
            "              precision    recall  f1-score   support\n",
            "\n",
            "     class 0       0.88      0.97      0.93      2406\n",
            "     class 1       0.84      0.83      0.83      2408\n",
            "     class 2       0.81      0.78      0.79      2423\n",
            "     class 3       0.80      0.83      0.82      2417\n",
            "     class 4       0.94      0.85      0.89      2346\n",
            "\n",
            "    accuracy                           0.85     12000\n",
            "   macro avg       0.85      0.85      0.85     12000\n",
            "weighted avg       0.85      0.85      0.85     12000\n",
            "\n"
          ],
          "name": "stdout"
        }
      ]
    },
    {
      "cell_type": "code",
      "metadata": {
        "colab_type": "code",
        "outputId": "18928737-b161-4882-9118-e6bdaccb454d",
        "id": "4uZaK5vdsYlf",
        "colab": {
          "base_uri": "https://localhost:8080/",
          "height": 102
        }
      },
      "source": [
        "from sklearn.metrics import confusion_matrix\n",
        "confusion_matrix(np.argmax(y_valid_n, axis=1), y_pred_val)"
      ],
      "execution_count": 0,
      "outputs": [
        {
          "output_type": "execute_result",
          "data": {
            "text/plain": [
              "array([[2345,   48,   13,    0,    0],\n",
              "       [ 255, 1988,  131,   28,    6],\n",
              "       [  40,  276, 1895,  186,   26],\n",
              "       [   3,   37,  270, 2006,  101],\n",
              "       [  13,   12,   39,  282, 2000]])"
            ]
          },
          "metadata": {
            "tags": []
          },
          "execution_count": 68
        }
      ]
    },
    {
      "cell_type": "code",
      "metadata": {
        "colab_type": "code",
        "outputId": "34512cc9-77dd-4b9c-aa1f-80632e458d58",
        "id": "0Y8kVQj3sYll",
        "colab": {
          "base_uri": "https://localhost:8080/",
          "height": 34
        }
      },
      "source": [
        "start = timeit.default_timer()\n",
        "y_pred = final_model.predict(X_valid_n)\n",
        "stop = timeit.default_timer()\n",
        "t_basic_cnn_tuner=stop - start\n",
        "print('Time: ', t_basic_cnn_tuner) "
      ],
      "execution_count": 0,
      "outputs": [
        {
          "output_type": "stream",
          "text": [
            "Time:  1.9338094600000204\n"
          ],
          "name": "stdout"
        }
      ]
    },
    {
      "cell_type": "code",
      "metadata": {
        "id": "GjcUecYFybWV",
        "colab_type": "code",
        "colab": {}
      },
      "source": [
        "y_pred=final_model.predict(X_test_f)\n",
        "y_pred_val = np.argmax(y_pred, axis=-1)"
      ],
      "execution_count": 0,
      "outputs": []
    },
    {
      "cell_type": "code",
      "metadata": {
        "id": "EcASSmG0au-X",
        "colab_type": "code",
        "colab": {}
      },
      "source": [
        "y_test_f=final_model.predict(X_test_f)\n",
        "y_test_f=np.argmax(y_pred, axis=-1)\n",
        "y_test_f_df=pd.DataFrame(y_test_f, columns=['Label'])\n",
        "frames = [X_test_d['Id'],y_test_f_df]\n",
        "output = pd.concat(frames,axis=1)"
      ],
      "execution_count": 0,
      "outputs": []
    },
    {
      "cell_type": "code",
      "metadata": {
        "id": "d1EEK0YPyQzg",
        "colab_type": "code",
        "colab": {}
      },
      "source": [
        "# from google.colab import files\n",
        "# output.to_csv ('output.csv',index = False, header=True)\n",
        "# files.download('output.csv')"
      ],
      "execution_count": 0,
      "outputs": []
    },
    {
      "cell_type": "code",
      "metadata": {
        "id": "FQw4yHoOieUW",
        "colab_type": "code",
        "colab": {}
      },
      "source": [
        ""
      ],
      "execution_count": 0,
      "outputs": []
    },
    {
      "cell_type": "markdown",
      "metadata": {
        "id": "qNRc492cigeL",
        "colab_type": "text"
      },
      "source": [
        "**VGG 16 Implementation**"
      ]
    },
    {
      "cell_type": "code",
      "metadata": {
        "id": "8cc-mhNmmg7H",
        "colab_type": "code",
        "outputId": "3b2695ec-bdde-4da7-aed6-c9c7a71610b7",
        "colab": {
          "base_uri": "https://localhost:8080/",
          "height": 34
        }
      },
      "source": [
        "from keras.applications.vgg16 import VGG16\n",
        "from keras.applications.vgg16 import preprocess_input\n",
        "\n",
        "classes = np.unique(y_train_np)\n",
        "num_classes = len(classes)\n",
        "num_classes"
      ],
      "execution_count": 0,
      "outputs": [
        {
          "output_type": "execute_result",
          "data": {
            "text/plain": [
              "5"
            ]
          },
          "metadata": {
            "tags": []
          },
          "execution_count": 73
        }
      ]
    },
    {
      "cell_type": "code",
      "metadata": {
        "id": "EvNapoUW7rDA",
        "colab_type": "code",
        "outputId": "3351f133-322f-4625-dcd6-ecd393078395",
        "colab": {
          "base_uri": "https://localhost:8080/",
          "height": 34
        }
      },
      "source": [
        "#3 channels conversion\n",
        "X_train=np.dstack([X_train_np] * 3)\n",
        "X_test=np.dstack([X_test_np]*3)\n",
        "X_train.shape,X_test.shape"
      ],
      "execution_count": 0,
      "outputs": [
        {
          "output_type": "execute_result",
          "data": {
            "text/plain": [
              "((60000, 784, 3), (10000, 784, 3))"
            ]
          },
          "metadata": {
            "tags": []
          },
          "execution_count": 74
        }
      ]
    },
    {
      "cell_type": "code",
      "metadata": {
        "id": "IweP3FXW705e",
        "colab_type": "code",
        "outputId": "e427c7f6-1be7-438b-8598-86387e36ac7d",
        "colab": {
          "base_uri": "https://localhost:8080/",
          "height": 34
        }
      },
      "source": [
        "X_train = X_train.reshape(-1, 28,28,3)\n",
        "X_test= X_test.reshape (-1,28,28,3)\n",
        "X_train.shape,X_test.shape"
      ],
      "execution_count": 0,
      "outputs": [
        {
          "output_type": "execute_result",
          "data": {
            "text/plain": [
              "((60000, 28, 28, 3), (10000, 28, 28, 3))"
            ]
          },
          "metadata": {
            "tags": []
          },
          "execution_count": 75
        }
      ]
    },
    {
      "cell_type": "code",
      "metadata": {
        "id": "itP_XUpY73tn",
        "colab_type": "code",
        "outputId": "14a2c3ff-f003-4dd4-b77d-4d0a9747a533",
        "colab": {
          "base_uri": "https://localhost:8080/",
          "height": 34
        }
      },
      "source": [
        "# Resize the images 48*48 for VGG16\n",
        "from keras.preprocessing.image import img_to_array, array_to_img\n",
        "X_train = np.asarray([img_to_array(array_to_img(im, scale=False).resize((48,48))) for im in X_train])\n",
        "X_test = np.asarray([img_to_array(array_to_img(im, scale=False).resize((48,48))) for im in X_test])\n",
        "X_train.shape, X_test.shape"
      ],
      "execution_count": 0,
      "outputs": [
        {
          "output_type": "execute_result",
          "data": {
            "text/plain": [
              "((60000, 48, 48, 3), (10000, 48, 48, 3))"
            ]
          },
          "metadata": {
            "tags": []
          },
          "execution_count": 76
        }
      ]
    },
    {
      "cell_type": "code",
      "metadata": {
        "id": "E3J1xS7j75mU",
        "colab_type": "code",
        "colab": {}
      },
      "source": [
        "# Normalise the data \n",
        "X_train = X_train / 255.\n",
        "X_test = X_test / 255.\n",
        "X_train = X_train.astype('float32')\n",
        "X_test = X_test.astype('float32')\n"
      ],
      "execution_count": 0,
      "outputs": []
    },
    {
      "cell_type": "code",
      "metadata": {
        "id": "BNgUz1zG78Aq",
        "colab_type": "code",
        "colab": {}
      },
      "source": [
        "#one hot encoded format\n",
        "from keras.utils import to_categorical\n",
        "train_Y_one_hot = to_categorical(y_train_np)\n"
      ],
      "execution_count": 0,
      "outputs": []
    },
    {
      "cell_type": "code",
      "metadata": {
        "id": "nLbXrpyZ8I-p",
        "colab_type": "code",
        "colab": {}
      },
      "source": [
        "X_train,X_valid,y_train,y_valid = train_test_split(X_train,\n",
        "                                                  train_Y_one_hot,\n",
        "                                                  test_size=0.2,\n",
        "                                                  random_state=13\n",
        "                                                  )\n"
      ],
      "execution_count": 0,
      "outputs": []
    },
    {
      "cell_type": "code",
      "metadata": {
        "id": "4a-O13zp8LEa",
        "colab_type": "code",
        "colab": {}
      },
      "source": [
        "x_dim = 48\n",
        "y_dim = 48\n",
        "chan = 3\n",
        "batch_size = 16"
      ],
      "execution_count": 0,
      "outputs": []
    },
    {
      "cell_type": "code",
      "metadata": {
        "id": "H5IUUwvZ8NKN",
        "colab_type": "code",
        "colab": {}
      },
      "source": [
        "# Preprocessing the input \n",
        "X_train = preprocess_input(X_train)\n",
        "X_valid = preprocess_input(X_valid)\n",
        "X_test  = preprocess_input (X_test)\n"
      ],
      "execution_count": 0,
      "outputs": []
    },
    {
      "cell_type": "code",
      "metadata": {
        "id": "8v3wpTeQ8PI-",
        "colab_type": "code",
        "outputId": "67bb14e3-6f95-418b-b135-2e7fe7798402",
        "colab": {
          "base_uri": "https://localhost:8080/",
          "height": 853
        }
      },
      "source": [
        "#base model of VGG16\n",
        "VGG_base = VGG16(weights='imagenet',\n",
        "                  include_top=False, \n",
        "                  input_shape=(y_dim, x_dim, chan)\n",
        "                 )\n",
        "VGG_base.summary()\n"
      ],
      "execution_count": 0,
      "outputs": [
        {
          "output_type": "stream",
          "text": [
            "Downloading data from https://github.com/fchollet/deep-learning-models/releases/download/v0.1/vgg16_weights_tf_dim_ordering_tf_kernels_notop.h5\n",
            "58892288/58889256 [==============================] - 2s 0us/step\n",
            "Model: \"vgg16\"\n",
            "_________________________________________________________________\n",
            "Layer (type)                 Output Shape              Param #   \n",
            "=================================================================\n",
            "input_2 (InputLayer)         (None, 48, 48, 3)         0         \n",
            "_________________________________________________________________\n",
            "block1_conv1 (Conv2D)        (None, 48, 48, 64)        1792      \n",
            "_________________________________________________________________\n",
            "block1_conv2 (Conv2D)        (None, 48, 48, 64)        36928     \n",
            "_________________________________________________________________\n",
            "block1_pool (MaxPooling2D)   (None, 24, 24, 64)        0         \n",
            "_________________________________________________________________\n",
            "block2_conv1 (Conv2D)        (None, 24, 24, 128)       73856     \n",
            "_________________________________________________________________\n",
            "block2_conv2 (Conv2D)        (None, 24, 24, 128)       147584    \n",
            "_________________________________________________________________\n",
            "block2_pool (MaxPooling2D)   (None, 12, 12, 128)       0         \n",
            "_________________________________________________________________\n",
            "block3_conv1 (Conv2D)        (None, 12, 12, 256)       295168    \n",
            "_________________________________________________________________\n",
            "block3_conv2 (Conv2D)        (None, 12, 12, 256)       590080    \n",
            "_________________________________________________________________\n",
            "block3_conv3 (Conv2D)        (None, 12, 12, 256)       590080    \n",
            "_________________________________________________________________\n",
            "block3_pool (MaxPooling2D)   (None, 6, 6, 256)         0         \n",
            "_________________________________________________________________\n",
            "block4_conv1 (Conv2D)        (None, 6, 6, 512)         1180160   \n",
            "_________________________________________________________________\n",
            "block4_conv2 (Conv2D)        (None, 6, 6, 512)         2359808   \n",
            "_________________________________________________________________\n",
            "block4_conv3 (Conv2D)        (None, 6, 6, 512)         2359808   \n",
            "_________________________________________________________________\n",
            "block4_pool (MaxPooling2D)   (None, 3, 3, 512)         0         \n",
            "_________________________________________________________________\n",
            "block5_conv1 (Conv2D)        (None, 3, 3, 512)         2359808   \n",
            "_________________________________________________________________\n",
            "block5_conv2 (Conv2D)        (None, 3, 3, 512)         2359808   \n",
            "_________________________________________________________________\n",
            "block5_conv3 (Conv2D)        (None, 3, 3, 512)         2359808   \n",
            "_________________________________________________________________\n",
            "block5_pool (MaxPooling2D)   (None, 1, 1, 512)         0         \n",
            "=================================================================\n",
            "Total params: 14,714,688\n",
            "Trainable params: 14,714,688\n",
            "Non-trainable params: 0\n",
            "_________________________________________________________________\n"
          ],
          "name": "stdout"
        }
      ]
    },
    {
      "cell_type": "code",
      "metadata": {
        "id": "SUAzrwh58RVR",
        "colab_type": "code",
        "outputId": "20376bea-2868-4418-ac60-90bf9f0c211e",
        "colab": {
          "base_uri": "https://localhost:8080/",
          "height": 68
        }
      },
      "source": [
        "# Extracting features\n",
        "X_train_feat = VGG_base.predict(np.array(X_train), batch_size=batch_size, verbose=1)\n",
        "X_test_feat = VGG_base.predict(np.array(X_test), batch_size=batch_size, verbose=1)\n",
        "X_valid_features = VGG_base.predict(np.array(X_valid), batch_size=batch_size, verbose=1)"
      ],
      "execution_count": 0,
      "outputs": [
        {
          "output_type": "stream",
          "text": [
            "48000/48000 [==============================] - 34s 705us/step\n",
            "10000/10000 [==============================] - 7s 705us/step\n",
            "12000/12000 [==============================] - 8s 703us/step\n"
          ],
          "name": "stdout"
        }
      ]
    },
    {
      "cell_type": "code",
      "metadata": {
        "id": "4kkq_vw-9vsE",
        "colab_type": "code",
        "colab": {}
      },
      "source": [
        "# Feature flattening\n",
        "X_train_feat_flat = np.reshape(X_train_feat, (48000, 1*1*512))\n",
        "X_test_feat_flat = np.reshape(X_test_feat, (10000, 1*1*512))\n",
        "X_valid_feat_flat = np.reshape(X_valid_features, (12000, 1*1*512))\n"
      ],
      "execution_count": 0,
      "outputs": []
    },
    {
      "cell_type": "code",
      "metadata": {
        "id": "wu7w7njf9yAG",
        "colab_type": "code",
        "colab": {}
      },
      "source": [
        "from keras import models\n",
        "from keras.models import Model\n",
        "from keras import layers\n",
        "from keras import optimizers\n",
        "from keras import callbacks\n",
        "from keras.layers.advanced_activations import LeakyReLU\n"
      ],
      "execution_count": 0,
      "outputs": []
    },
    {
      "cell_type": "code",
      "metadata": {
        "id": "jrh1vdMO90mj",
        "colab_type": "code",
        "colab": {}
      },
      "source": [
        "epoch = 100\n",
        "model = models.Sequential()\n",
        "model.add(layers.Dense(512, activation='relu', input_dim=(1*1*512)))\n",
        "model.add(layers.LeakyReLU(alpha=0.1))\n",
        "model.add(layers.Dense(num_classes, activation='softmax'))\n"
      ],
      "execution_count": 0,
      "outputs": []
    },
    {
      "cell_type": "code",
      "metadata": {
        "id": "HbKnry-x93Qz",
        "colab_type": "code",
        "colab": {}
      },
      "source": [
        "# Compiling the model\n",
        "model.compile(\n",
        "    loss='categorical_crossentropy',\n",
        "    optimizer=optimizers.Adam(),\n",
        "    metrics=['acc'])"
      ],
      "execution_count": 0,
      "outputs": []
    },
    {
      "cell_type": "code",
      "metadata": {
        "id": "O3hyelWK9515",
        "colab_type": "code",
        "outputId": "89182a88-05ca-479e-b558-3c7b474910ed",
        "colab": {
          "base_uri": "https://localhost:8080/",
          "height": 71
        }
      },
      "source": [
        "reduce_learning = callbacks.ReduceLROnPlateau(\n",
        "    monitor='val_loss',\n",
        "    patience=2,\n",
        "    verbose=1,\n",
        "    factor=0.2,\n",
        "    cooldown=2,\n",
        "    mode='auto',\n",
        "    epsilon=0.0001,\n",
        "    min_lr=0)\n",
        "\n",
        "eary_stopping = callbacks.EarlyStopping(\n",
        "    monitor='val_loss',\n",
        "    patience=5,\n",
        "    min_delta=1e-3,\n",
        "    verbose=1,\n",
        "    mode='auto')\n",
        "callbacks = [reduce_learning, eary_stopping]\n"
      ],
      "execution_count": 0,
      "outputs": [
        {
          "output_type": "stream",
          "text": [
            "/usr/local/lib/python3.6/dist-packages/keras/callbacks/callbacks.py:998: UserWarning: `epsilon` argument is deprecated and will be removed, use `min_delta` instead.\n",
            "  warnings.warn('`epsilon` argument is deprecated and '\n"
          ],
          "name": "stderr"
        }
      ]
    },
    {
      "cell_type": "code",
      "metadata": {
        "id": "ahLiOwtl988i",
        "colab_type": "code",
        "outputId": "a36ac787-5450-46f9-853f-a7acf84f90d7",
        "colab": {
          "base_uri": "https://localhost:8080/",
          "height": 1000
        }
      },
      "source": [
        "# Train the the model\n",
        "history = model.fit(\n",
        "    X_train_feat_flat,\n",
        "    y_train,\n",
        "    epochs=epoch,\n",
        "    validation_data=(X_valid_feat_flat, y_valid),\n",
        "    callbacks=callbacks\n",
        ")"
      ],
      "execution_count": 0,
      "outputs": [
        {
          "output_type": "stream",
          "text": [
            "Train on 48000 samples, validate on 12000 samples\n",
            "Epoch 1/100\n",
            "48000/48000 [==============================] - 5s 97us/step - loss: 1.3507 - acc: 0.4027 - val_loss: 1.1633 - val_acc: 0.4438\n",
            "Epoch 2/100\n",
            "48000/48000 [==============================] - 5s 97us/step - loss: 1.1524 - acc: 0.4926 - val_loss: 1.1065 - val_acc: 0.5006\n",
            "Epoch 3/100\n",
            "48000/48000 [==============================] - 5s 99us/step - loss: 1.0683 - acc: 0.5363 - val_loss: 1.0475 - val_acc: 0.5198\n",
            "Epoch 4/100\n",
            "48000/48000 [==============================] - 5s 96us/step - loss: 1.0116 - acc: 0.5665 - val_loss: 0.9798 - val_acc: 0.5830\n",
            "Epoch 5/100\n",
            "48000/48000 [==============================] - 5s 97us/step - loss: 0.9739 - acc: 0.5831 - val_loss: 0.9890 - val_acc: 0.5803\n",
            "Epoch 6/100\n",
            "48000/48000 [==============================] - 5s 97us/step - loss: 0.9450 - acc: 0.6012 - val_loss: 0.9665 - val_acc: 0.5897\n",
            "Epoch 7/100\n",
            "48000/48000 [==============================] - 5s 96us/step - loss: 0.9175 - acc: 0.6154 - val_loss: 0.9185 - val_acc: 0.6160\n",
            "Epoch 8/100\n",
            "48000/48000 [==============================] - 5s 96us/step - loss: 0.9014 - acc: 0.6243 - val_loss: 0.8827 - val_acc: 0.6426\n",
            "Epoch 9/100\n",
            "48000/48000 [==============================] - 5s 97us/step - loss: 0.8861 - acc: 0.6332 - val_loss: 0.8659 - val_acc: 0.6506\n",
            "Epoch 10/100\n",
            "48000/48000 [==============================] - 5s 97us/step - loss: 0.8704 - acc: 0.6417 - val_loss: 0.8470 - val_acc: 0.6572\n",
            "Epoch 11/100\n",
            "48000/48000 [==============================] - 5s 97us/step - loss: 0.8586 - acc: 0.6451 - val_loss: 0.8255 - val_acc: 0.6658\n",
            "Epoch 12/100\n",
            "48000/48000 [==============================] - 5s 96us/step - loss: 0.8505 - acc: 0.6519 - val_loss: 0.8400 - val_acc: 0.6540\n",
            "Epoch 13/100\n",
            "48000/48000 [==============================] - 5s 96us/step - loss: 0.8392 - acc: 0.6567 - val_loss: 0.8473 - val_acc: 0.6568\n",
            "\n",
            "Epoch 00013: ReduceLROnPlateau reducing learning rate to 0.00020000000949949026.\n",
            "Epoch 14/100\n",
            "48000/48000 [==============================] - 5s 96us/step - loss: 0.7901 - acc: 0.6843 - val_loss: 0.7913 - val_acc: 0.6871\n",
            "Epoch 15/100\n",
            "48000/48000 [==============================] - 5s 96us/step - loss: 0.7874 - acc: 0.6829 - val_loss: 0.7949 - val_acc: 0.6795\n",
            "Epoch 16/100\n",
            "48000/48000 [==============================] - 5s 97us/step - loss: 0.7852 - acc: 0.6842 - val_loss: 0.7971 - val_acc: 0.6777\n",
            "\n",
            "Epoch 00016: ReduceLROnPlateau reducing learning rate to 4.0000001899898055e-05.\n",
            "Epoch 17/100\n",
            "48000/48000 [==============================] - 5s 97us/step - loss: 0.7728 - acc: 0.6901 - val_loss: 0.7838 - val_acc: 0.6858\n",
            "Epoch 18/100\n",
            "48000/48000 [==============================] - 5s 95us/step - loss: 0.7716 - acc: 0.6908 - val_loss: 0.7857 - val_acc: 0.6825\n",
            "Epoch 19/100\n",
            "48000/48000 [==============================] - 5s 99us/step - loss: 0.7710 - acc: 0.6915 - val_loss: 0.7805 - val_acc: 0.6873\n",
            "Epoch 20/100\n",
            "48000/48000 [==============================] - 5s 97us/step - loss: 0.7705 - acc: 0.6921 - val_loss: 0.7808 - val_acc: 0.6879\n",
            "Epoch 21/100\n",
            "48000/48000 [==============================] - 5s 96us/step - loss: 0.7696 - acc: 0.6916 - val_loss: 0.7787 - val_acc: 0.6902\n",
            "Epoch 22/100\n",
            "48000/48000 [==============================] - 5s 95us/step - loss: 0.7687 - acc: 0.6926 - val_loss: 0.7784 - val_acc: 0.6917\n",
            "Epoch 23/100\n",
            "48000/48000 [==============================] - 5s 95us/step - loss: 0.7683 - acc: 0.6921 - val_loss: 0.7785 - val_acc: 0.6896\n",
            "Epoch 24/100\n",
            "48000/48000 [==============================] - 5s 96us/step - loss: 0.7675 - acc: 0.6927 - val_loss: 0.7773 - val_acc: 0.6889\n",
            "Epoch 25/100\n",
            "48000/48000 [==============================] - 5s 96us/step - loss: 0.7667 - acc: 0.6933 - val_loss: 0.7759 - val_acc: 0.6901\n",
            "Epoch 26/100\n",
            "48000/48000 [==============================] - 5s 95us/step - loss: 0.7659 - acc: 0.6936 - val_loss: 0.7829 - val_acc: 0.6897\n",
            "Epoch 27/100\n",
            "48000/48000 [==============================] - 5s 95us/step - loss: 0.7655 - acc: 0.6939 - val_loss: 0.7752 - val_acc: 0.6902\n",
            "Epoch 28/100\n",
            "48000/48000 [==============================] - 5s 96us/step - loss: 0.7647 - acc: 0.6936 - val_loss: 0.7756 - val_acc: 0.6898\n",
            "Epoch 29/100\n",
            "48000/48000 [==============================] - 5s 95us/step - loss: 0.7643 - acc: 0.6935 - val_loss: 0.7745 - val_acc: 0.6895\n",
            "Epoch 30/100\n",
            "48000/48000 [==============================] - 5s 95us/step - loss: 0.7637 - acc: 0.6942 - val_loss: 0.7732 - val_acc: 0.6911\n",
            "Epoch 31/100\n",
            "48000/48000 [==============================] - 5s 96us/step - loss: 0.7630 - acc: 0.6948 - val_loss: 0.7737 - val_acc: 0.6881\n",
            "Epoch 32/100\n",
            "48000/48000 [==============================] - 5s 95us/step - loss: 0.7624 - acc: 0.6955 - val_loss: 0.7727 - val_acc: 0.6878\n",
            "Epoch 33/100\n",
            "48000/48000 [==============================] - 5s 95us/step - loss: 0.7615 - acc: 0.6960 - val_loss: 0.7706 - val_acc: 0.6919\n",
            "Epoch 34/100\n",
            "48000/48000 [==============================] - 5s 96us/step - loss: 0.7612 - acc: 0.6957 - val_loss: 0.7704 - val_acc: 0.6933\n",
            "Epoch 35/100\n",
            "48000/48000 [==============================] - 5s 95us/step - loss: 0.7604 - acc: 0.6966 - val_loss: 0.7703 - val_acc: 0.6914\n",
            "Epoch 36/100\n",
            "48000/48000 [==============================] - 5s 96us/step - loss: 0.7598 - acc: 0.6965 - val_loss: 0.7697 - val_acc: 0.6929\n",
            "Epoch 37/100\n",
            "48000/48000 [==============================] - 5s 98us/step - loss: 0.7593 - acc: 0.6958 - val_loss: 0.7709 - val_acc: 0.6936\n",
            "Epoch 38/100\n",
            "48000/48000 [==============================] - 5s 99us/step - loss: 0.7591 - acc: 0.6969 - val_loss: 0.7686 - val_acc: 0.6888\n",
            "Epoch 39/100\n",
            "48000/48000 [==============================] - 5s 105us/step - loss: 0.7582 - acc: 0.6959 - val_loss: 0.7686 - val_acc: 0.6902\n",
            "Epoch 40/100\n",
            "48000/48000 [==============================] - 5s 103us/step - loss: 0.7576 - acc: 0.6971 - val_loss: 0.7691 - val_acc: 0.6909\n",
            "\n",
            "Epoch 00040: ReduceLROnPlateau reducing learning rate to 8.000000525498762e-06.\n",
            "Epoch 41/100\n",
            "48000/48000 [==============================] - 5s 96us/step - loss: 0.7551 - acc: 0.6986 - val_loss: 0.7669 - val_acc: 0.6919\n",
            "Epoch 42/100\n",
            "48000/48000 [==============================] - 5s 96us/step - loss: 0.7547 - acc: 0.6994 - val_loss: 0.7666 - val_acc: 0.6929\n",
            "Epoch 43/100\n",
            "48000/48000 [==============================] - 5s 96us/step - loss: 0.7547 - acc: 0.6994 - val_loss: 0.7664 - val_acc: 0.6932\n",
            "Epoch 44/100\n",
            "48000/48000 [==============================] - 5s 95us/step - loss: 0.7544 - acc: 0.6996 - val_loss: 0.7666 - val_acc: 0.6918\n",
            "Epoch 45/100\n",
            "48000/48000 [==============================] - 5s 96us/step - loss: 0.7544 - acc: 0.6985 - val_loss: 0.7662 - val_acc: 0.6913\n",
            "Epoch 46/100\n",
            "48000/48000 [==============================] - 5s 96us/step - loss: 0.7543 - acc: 0.6985 - val_loss: 0.7658 - val_acc: 0.6938\n",
            "Epoch 47/100\n",
            "48000/48000 [==============================] - 5s 97us/step - loss: 0.7542 - acc: 0.6991 - val_loss: 0.7656 - val_acc: 0.6923\n",
            "Epoch 48/100\n",
            "48000/48000 [==============================] - 5s 95us/step - loss: 0.7539 - acc: 0.6983 - val_loss: 0.7667 - val_acc: 0.6932\n",
            "Epoch 49/100\n",
            "48000/48000 [==============================] - 5s 95us/step - loss: 0.7539 - acc: 0.6992 - val_loss: 0.7661 - val_acc: 0.6938\n",
            "\n",
            "Epoch 00049: ReduceLROnPlateau reducing learning rate to 1.6000001778593287e-06.\n",
            "Epoch 50/100\n",
            "48000/48000 [==============================] - 5s 95us/step - loss: 0.7533 - acc: 0.6995 - val_loss: 0.7655 - val_acc: 0.6927\n",
            "Epoch 51/100\n",
            "48000/48000 [==============================] - 5s 95us/step - loss: 0.7533 - acc: 0.6991 - val_loss: 0.7653 - val_acc: 0.6938\n",
            "Epoch 00051: early stopping\n"
          ],
          "name": "stdout"
        }
      ]
    },
    {
      "cell_type": "code",
      "metadata": {
        "id": "vfaedI9U9_f3",
        "colab_type": "code",
        "outputId": "2f096e16-a447-4d83-fb75-b7dde159da90",
        "colab": {
          "base_uri": "https://localhost:8080/",
          "height": 551
        }
      },
      "source": [
        "# plot the loss and accuracy\n",
        "acc = history.history['acc']\n",
        "val_acc = history.history['val_acc']\n",
        "loss = history.history['loss']\n",
        "val_loss = history.history['val_loss']\n",
        "epochs = range(1, len(acc) + 1)\n",
        "\n",
        "plt.title('Training and validation accuracy')\n",
        "plt.plot(epochs, acc, 'red', label='Training acc')\n",
        "plt.plot(epochs, val_acc, 'blue', label='Validation acc')\n",
        "plt.legend()\n",
        "\n",
        "plt.figure()\n",
        "plt.title('Training and validation loss')\n",
        "plt.plot(epochs, loss, 'red', label='Training loss')\n",
        "plt.plot(epochs, val_loss, 'blue', label='Validation loss')\n",
        "\n",
        "plt.legend()\n",
        "\n",
        "plt.show()"
      ],
      "execution_count": 0,
      "outputs": [
        {
          "output_type": "display_data",
          "data": {
            "image/png": "[encoded data removed]",
            "text/plain": [
              "<Figure size 432x288 with 1 Axes>"
            ]
          },
          "metadata": {
            "tags": [],
            "needs_background": "light"
          }
        },
        {
          "output_type": "display_data",
          "data": {
            "image/png": "[encoded data removed]",
            "text/plain": [
              "<Figure size 432x288 with 1 Axes>"
            ]
          },
          "metadata": {
            "tags": [],
            "needs_background": "light"
          }
        }
      ]
    },
    {
      "cell_type": "code",
      "metadata": {
        "id": "syNYgYt5SuqZ",
        "colab_type": "code",
        "outputId": "200ce8d0-05f0-4781-c7f1-474247bc0d84",
        "colab": {
          "base_uri": "https://localhost:8080/",
          "height": 221
        }
      },
      "source": [
        "#classificaiton report\n",
        "from sklearn.metrics import classification_report\n",
        "y_pred = model.predict_classes(X_valid_feat_flat)\n",
        "target_names = ['class 0', 'class 1', 'class 2','class 3','class 4']\n",
        "print(classification_report(np.argmax(y_valid, axis=1),y_pred, target_names=target_names))"
      ],
      "execution_count": 0,
      "outputs": [
        {
          "output_type": "stream",
          "text": [
            "              precision    recall  f1-score   support\n",
            "\n",
            "     class 0       0.80      0.85      0.82      2406\n",
            "     class 1       0.64      0.68      0.65      2408\n",
            "     class 2       0.61      0.54      0.57      2423\n",
            "     class 3       0.65      0.67      0.66      2417\n",
            "     class 4       0.77      0.73      0.75      2346\n",
            "\n",
            "    accuracy                           0.69     12000\n",
            "   macro avg       0.69      0.69      0.69     12000\n",
            "weighted avg       0.69      0.69      0.69     12000\n",
            "\n"
          ],
          "name": "stdout"
        }
      ]
    },
    {
      "cell_type": "code",
      "metadata": {
        "id": "xYuCUqIwSd7Z",
        "colab_type": "code",
        "outputId": "71328f07-b305-45c4-d314-2db05c499877",
        "colab": {
          "base_uri": "https://localhost:8080/",
          "height": 102
        }
      },
      "source": [
        "from sklearn.metrics import confusion_matrix\n",
        "confusion_matrix(np.argmax(y_valid, axis=1), y_pred)"
      ],
      "execution_count": 0,
      "outputs": [
        {
          "output_type": "execute_result",
          "data": {
            "text/plain": [
              "array([[2050,  310,   43,    1,    2],\n",
              "       [ 327, 1627,  347,   50,   57],\n",
              "       [ 138,  434, 1298,  406,  147],\n",
              "       [   9,  127,  333, 1630,  318],\n",
              "       [  51,   64,  104,  407, 1720]])"
            ]
          },
          "metadata": {
            "tags": []
          },
          "execution_count": 92
        }
      ]
    },
    {
      "cell_type": "code",
      "metadata": {
        "colab_type": "code",
        "id": "st14Bak2S5x1",
        "outputId": "19eb308a-8387-414b-f049-08d8fa01a260",
        "colab": {
          "base_uri": "https://localhost:8080/",
          "height": 34
        }
      },
      "source": [
        "start = timeit.default_timer()\n",
        "y_pred = model.predict_classes(X_valid_feat_flat)\n",
        "stop = timeit.default_timer()\n",
        "t_basic_cnn_tuner=stop - start\n",
        "print('Time: ', t_basic_cnn_tuner) "
      ],
      "execution_count": 0,
      "outputs": [
        {
          "output_type": "stream",
          "text": [
            "Time:  0.22752772299963908\n"
          ],
          "name": "stdout"
        }
      ]
    },
    {
      "cell_type": "code",
      "metadata": {
        "colab_type": "code",
        "id": "8qArFrUWS5yG",
        "colab": {}
      },
      "source": [
        "y_test_f=model.predict_classes(X_test_feat_flat)\n",
        "y_test_f_df=pd.DataFrame(y_test_f, columns=['Label'])"
      ],
      "execution_count": 0,
      "outputs": []
    },
    {
      "cell_type": "code",
      "metadata": {
        "colab_type": "code",
        "id": "Bqzil9MPS5yP",
        "outputId": "90c2e0e7-7843-461d-e5d0-99dec5d3d862",
        "colab": {
          "base_uri": "https://localhost:8080/",
          "height": 221
        }
      },
      "source": [
        "frames = [X_test_d['Id'],y_test_f_df]\n",
        "output = pd.concat(frames,axis=1)\n",
        "X_test_d['Id']"
      ],
      "execution_count": 0,
      "outputs": [
        {
          "output_type": "execute_result",
          "data": {
            "text/plain": [
              "0          0\n",
              "1          1\n",
              "2          2\n",
              "3          3\n",
              "4          4\n",
              "        ... \n",
              "9995    9995\n",
              "9996    9996\n",
              "9997    9997\n",
              "9998    9998\n",
              "9999    9999\n",
              "Name: Id, Length: 10000, dtype: int64"
            ]
          },
          "metadata": {
            "tags": []
          },
          "execution_count": 95
        }
      ]
    },
    {
      "cell_type": "code",
      "metadata": {
        "colab_type": "code",
        "id": "0AtW-r8CS5yV",
        "colab": {}
      },
      "source": [
        "# from google.colab import files\n",
        "# output.to_csv ('output.csv',index = False, header=True)\n",
        "# files.download('output.csv')"
      ],
      "execution_count": 0,
      "outputs": []
    }
  ]
}